{
 "cells": [
  {
   "cell_type": "code",
   "execution_count": 69,
   "metadata": {},
   "outputs": [],
   "source": [
    "import pandas as pd\n",
    "import numpy as np\n",
    "import string\n"
   ]
  },
  {
   "cell_type": "code",
   "execution_count": 7,
   "metadata": {},
   "outputs": [],
   "source": [
    "data = pd.read_csv('data/input_5.txt',header=None,delimiter=' ',names=['val'])"
   ]
  },
  {
   "cell_type": "code",
   "execution_count": 11,
   "metadata": {},
   "outputs": [],
   "source": [
    "p = data.iloc[0]['val']"
   ]
  },
  {
   "cell_type": "code",
   "execution_count": 22,
   "metadata": {},
   "outputs": [],
   "source": [
    "test_p = 'dabAcCaCBAcCcaDA'"
   ]
  },
  {
   "cell_type": "code",
   "execution_count": 57,
   "metadata": {},
   "outputs": [],
   "source": [
    "def react(p):\n",
    "    for i, char in enumerate(p[:-1]):\n",
    "        if char != p[i+1]:\n",
    "            if char.upper() == p[i+1] or char.lower() == p[i+1]:\n",
    "                if i + 2 < len(p):\n",
    "                    return p[:i] + p[i+2:]\n",
    "                else:\n",
    "                    return p[:i]\n",
    "    return p\n",
    "            \n"
   ]
  },
  {
   "cell_type": "code",
   "execution_count": 59,
   "metadata": {},
   "outputs": [],
   "source": [
    "assert react(test_p) == 'dabAaCBAcCcaDA'\n",
    "assert react('dabCBAcaDA') == 'dabCBAcaDA'"
   ]
  },
  {
   "cell_type": "code",
   "execution_count": 62,
   "metadata": {},
   "outputs": [],
   "source": [
    "def full_react(p):\n",
    "    while True:\n",
    "        p_next = react(p)\n",
    "        if p_next == p:\n",
    "            return p\n",
    "        else:\n",
    "            p = p_next\n",
    "            "
   ]
  },
  {
   "cell_type": "code",
   "execution_count": 61,
   "metadata": {},
   "outputs": [
    {
     "name": "stdout",
     "output_type": "stream",
     "text": [
      "dabAcCaCBAcCcaDA\n",
      "dabAaCBAcCcaDA\n",
      "dabCBAcCcaDA\n",
      "dabCBAcaDA\n"
     ]
    }
   ],
   "source": [
    "assert full_react(test_p) == 'dabCBAcaDA'"
   ]
  },
  {
   "cell_type": "code",
   "execution_count": 63,
   "metadata": {},
   "outputs": [
    {
     "name": "stdout",
     "output_type": "stream",
     "text": [
      "9686\n"
     ]
    }
   ],
   "source": [
    "print(len(full_react(p)))"
   ]
  },
  {
   "cell_type": "code",
   "execution_count": 72,
   "metadata": {},
   "outputs": [],
   "source": [
    "def strip_and_full_react(p):\n",
    "    min_len = 1e10\n",
    "    for char in list(string.ascii_lowercase):\n",
    "        print(char)\n",
    "        filtered_p = ''.join([p for p in p if p != char and p != char.upper()])\n",
    "        reacted_len = len(full_react(filtered_p))\n",
    "        min_len = min(min_len,reacted_len)\n",
    "    return min_len"
   ]
  },
  {
   "cell_type": "code",
   "execution_count": 73,
   "metadata": {},
   "outputs": [
    {
     "name": "stdout",
     "output_type": "stream",
     "text": [
      "a\n",
      "b\n",
      "c\n",
      "d\n",
      "e\n",
      "f\n",
      "g\n",
      "h\n",
      "i\n",
      "j\n",
      "k\n",
      "l\n",
      "m\n",
      "n\n",
      "o\n",
      "p\n",
      "q\n",
      "r\n",
      "s\n",
      "t\n",
      "u\n",
      "v\n",
      "w\n",
      "x\n",
      "y\n",
      "z\n"
     ]
    }
   ],
   "source": [
    "assert strip_and_full_react(test_p) == 4"
   ]
  },
  {
   "cell_type": "code",
   "execution_count": 74,
   "metadata": {},
   "outputs": [
    {
     "name": "stdout",
     "output_type": "stream",
     "text": [
      "a\n",
      "b\n",
      "c\n",
      "d\n",
      "e\n",
      "f\n",
      "g\n",
      "h\n",
      "i\n",
      "j\n",
      "k\n",
      "l\n",
      "m\n",
      "n\n",
      "o\n",
      "p\n",
      "q\n",
      "r\n",
      "s\n",
      "t\n",
      "u\n",
      "v\n",
      "w\n",
      "x\n",
      "y\n",
      "z\n",
      "5524\n"
     ]
    }
   ],
   "source": [
    "print(strip_and_full_react(p))"
   ]
  },
  {
   "cell_type": "code",
   "execution_count": null,
   "metadata": {},
   "outputs": [],
   "source": []
  }
 ],
 "metadata": {
  "kernelspec": {
   "display_name": "Python 3",
   "language": "python",
   "name": "python3"
  },
  "language_info": {
   "codemirror_mode": {
    "name": "ipython",
    "version": 3
   },
   "file_extension": ".py",
   "mimetype": "text/x-python",
   "name": "python",
   "nbconvert_exporter": "python",
   "pygments_lexer": "ipython3",
   "version": "3.6.5"
  }
 },
 "nbformat": 4,
 "nbformat_minor": 2
}
