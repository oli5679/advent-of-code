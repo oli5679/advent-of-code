{
 "cells": [
  {
   "cell_type": "code",
   "execution_count": 14,
   "metadata": {},
   "outputs": [],
   "source": [
    "import pandas as pd\n",
    "import numpy as np\n",
    "import re"
   ]
  },
  {
   "cell_type": "code",
   "execution_count": 37,
   "metadata": {},
   "outputs": [],
   "source": [
    "test_data = '''[1518-11-01 00:00] Guard #10 begins shift\n",
    "[1518-11-01 00:05] falls asleep\n",
    "[1518-11-01 00:25] wakes up\n",
    "[1518-11-01 00:30] falls asleep\n",
    "[1518-11-01 00:55] wakes up\n",
    "[1518-11-01 23:58] Guard #99 begins shift\n",
    "[1518-11-02 00:40] falls asleep\n",
    "[1518-11-02 00:50] wakes up\n",
    "[1518-11-03 00:05] Guard #10 begins shift\n",
    "[1518-11-03 00:24] falls asleep\n",
    "[1518-11-03 00:29] wakes up\n",
    "[1518-11-04 00:02] Guard #99 begins shift\n",
    "[1518-11-04 00:36] falls asleep\n",
    "[1518-11-04 00:46] wakes up\n",
    "[1518-11-05 00:03] Guard #99 begins shift\n",
    "[1518-11-05 00:45] falls asleep\n",
    "[1518-11-05 00:55] wakes up'''"
   ]
  },
  {
   "cell_type": "code",
   "execution_count": 38,
   "metadata": {},
   "outputs": [],
   "source": [
    "puz_df = pd.read_csv('data/input_4.txt',names=['entries'],header=None)"
   ]
  },
  {
   "cell_type": "code",
   "execution_count": 54,
   "metadata": {},
   "outputs": [],
   "source": [
    "def parse_entry(row):\n",
    "    entry = row['entry']\n",
    "    pattern = r'(\\[(\\d|-| |:)+\\] )(Guard #\\d+)?(\\D+)'\n",
    "    matches = re.match(pattern,entry)\n",
    "    row['timestamp'] = matches.group(1)\n",
    "    row['guard'] = matches.group(3)\n",
    "    row['action'] = matches.group(4)\n",
    "    return row"
   ]
  },
  {
   "cell_type": "code",
   "execution_count": 26,
   "metadata": {},
   "outputs": [
    {
     "data": {
      "text/plain": [
       "('[1518-11-01 00:00] ', 'Guard #10', ' begins shift')"
      ]
     },
     "execution_count": 26,
     "metadata": {},
     "output_type": "execute_result"
    }
   ],
   "source": [
    "parse_entry('[1518-11-01 00:00] Guard #10 begins shift')"
   ]
  },
  {
   "cell_type": "code",
   "execution_count": 18,
   "metadata": {},
   "outputs": [
    {
     "data": {
      "text/plain": [
       "('[1518-11-05 00:55] ', None, 'wakes up')"
      ]
     },
     "execution_count": 18,
     "metadata": {},
     "output_type": "execute_result"
    }
   ],
   "source": [
    "parse_entry('[1518-11-05 00:55] wakes up')"
   ]
  },
  {
   "cell_type": "code",
   "execution_count": 43,
   "metadata": {},
   "outputs": [],
   "source": [
    "test_df = pd.DataFrame(test_data.split('\\n'),columns=['entry'])"
   ]
  },
  {
   "cell_type": "code",
   "execution_count": 56,
   "metadata": {},
   "outputs": [],
   "source": [
    "test_df = test_df.apply(parse_entry,axis=1)"
   ]
  },
  {
   "cell_type": "code",
   "execution_count": 71,
   "metadata": {},
   "outputs": [
    {
     "ename": "OutOfBoundsDatetime",
     "evalue": "Out of bounds nanosecond timestamp: 1518-11-01 00:00:00",
     "output_type": "error",
     "traceback": [
      "\u001b[0;31m---------------------------------------------------------------------------\u001b[0m",
      "\u001b[0;31mTypeError\u001b[0m                                 Traceback (most recent call last)",
      "\u001b[0;32m~/anaconda3/lib/python3.6/site-packages/pandas/core/tools/datetimes.py\u001b[0m in \u001b[0;36m_convert_listlike\u001b[0;34m(arg, box, format, name, tz)\u001b[0m\n\u001b[1;32m    376\u001b[0m             \u001b[0;32mtry\u001b[0m\u001b[0;34m:\u001b[0m\u001b[0;34m\u001b[0m\u001b[0m\n\u001b[0;32m--> 377\u001b[0;31m                 \u001b[0mvalues\u001b[0m\u001b[0;34m,\u001b[0m \u001b[0mtz\u001b[0m \u001b[0;34m=\u001b[0m \u001b[0mconversion\u001b[0m\u001b[0;34m.\u001b[0m\u001b[0mdatetime_to_datetime64\u001b[0m\u001b[0;34m(\u001b[0m\u001b[0marg\u001b[0m\u001b[0;34m)\u001b[0m\u001b[0;34m\u001b[0m\u001b[0m\n\u001b[0m\u001b[1;32m    378\u001b[0m                 \u001b[0;32mreturn\u001b[0m \u001b[0mDatetimeIndex\u001b[0m\u001b[0;34m.\u001b[0m\u001b[0m_simple_new\u001b[0m\u001b[0;34m(\u001b[0m\u001b[0mvalues\u001b[0m\u001b[0;34m,\u001b[0m \u001b[0mname\u001b[0m\u001b[0;34m=\u001b[0m\u001b[0mname\u001b[0m\u001b[0;34m,\u001b[0m \u001b[0mtz\u001b[0m\u001b[0;34m=\u001b[0m\u001b[0mtz\u001b[0m\u001b[0;34m)\u001b[0m\u001b[0;34m\u001b[0m\u001b[0m\n",
      "\u001b[0;32mpandas/_libs/tslibs/conversion.pyx\u001b[0m in \u001b[0;36mpandas._libs.tslibs.conversion.datetime_to_datetime64\u001b[0;34m()\u001b[0m\n",
      "\u001b[0;31mTypeError\u001b[0m: Unrecognized value type: <class 'str'>",
      "\nDuring handling of the above exception, another exception occurred:\n",
      "\u001b[0;31mOutOfBoundsDatetime\u001b[0m                       Traceback (most recent call last)",
      "\u001b[0;32m<ipython-input-71-c7d060669af5>\u001b[0m in \u001b[0;36m<module>\u001b[0;34m()\u001b[0m\n\u001b[0;32m----> 1\u001b[0;31m \u001b[0mtest_df\u001b[0m\u001b[0;34m[\u001b[0m\u001b[0;34m'timestamp_clean'\u001b[0m\u001b[0;34m]\u001b[0m \u001b[0;34m=\u001b[0m \u001b[0mpd\u001b[0m\u001b[0;34m.\u001b[0m\u001b[0mto_datetime\u001b[0m\u001b[0;34m(\u001b[0m\u001b[0mtest_df\u001b[0m\u001b[0;34m[\u001b[0m\u001b[0;34m'timestamp'\u001b[0m\u001b[0;34m]\u001b[0m\u001b[0;34m.\u001b[0m\u001b[0mstr\u001b[0m\u001b[0;34m.\u001b[0m\u001b[0mreplace\u001b[0m\u001b[0;34m(\u001b[0m\u001b[0;34m'\\[|\\]'\u001b[0m\u001b[0;34m,\u001b[0m\u001b[0;34m''\u001b[0m\u001b[0;34m)\u001b[0m\u001b[0;34m,\u001b[0m\u001b[0mformat\u001b[0m\u001b[0;34m=\u001b[0m\u001b[0;34m'%Y-%m-%d %H:%M '\u001b[0m\u001b[0;34m)\u001b[0m\u001b[0;34m\u001b[0m\u001b[0m\n\u001b[0m",
      "\u001b[0;32m~/anaconda3/lib/python3.6/site-packages/pandas/core/tools/datetimes.py\u001b[0m in \u001b[0;36mto_datetime\u001b[0;34m(arg, errors, dayfirst, yearfirst, utc, box, format, exact, unit, infer_datetime_format, origin, cache)\u001b[0m\n\u001b[1;32m    449\u001b[0m         \u001b[0;32melse\u001b[0m\u001b[0;34m:\u001b[0m\u001b[0;34m\u001b[0m\u001b[0m\n\u001b[1;32m    450\u001b[0m             \u001b[0;32mfrom\u001b[0m \u001b[0mpandas\u001b[0m \u001b[0;32mimport\u001b[0m \u001b[0mSeries\u001b[0m\u001b[0;34m\u001b[0m\u001b[0m\n\u001b[0;32m--> 451\u001b[0;31m             \u001b[0mvalues\u001b[0m \u001b[0;34m=\u001b[0m \u001b[0m_convert_listlike\u001b[0m\u001b[0;34m(\u001b[0m\u001b[0marg\u001b[0m\u001b[0;34m.\u001b[0m\u001b[0m_values\u001b[0m\u001b[0;34m,\u001b[0m \u001b[0;32mTrue\u001b[0m\u001b[0;34m,\u001b[0m \u001b[0mformat\u001b[0m\u001b[0;34m)\u001b[0m\u001b[0;34m\u001b[0m\u001b[0m\n\u001b[0m\u001b[1;32m    452\u001b[0m             \u001b[0mresult\u001b[0m \u001b[0;34m=\u001b[0m \u001b[0mSeries\u001b[0m\u001b[0;34m(\u001b[0m\u001b[0mvalues\u001b[0m\u001b[0;34m,\u001b[0m \u001b[0mindex\u001b[0m\u001b[0;34m=\u001b[0m\u001b[0marg\u001b[0m\u001b[0;34m.\u001b[0m\u001b[0mindex\u001b[0m\u001b[0;34m,\u001b[0m \u001b[0mname\u001b[0m\u001b[0;34m=\u001b[0m\u001b[0marg\u001b[0m\u001b[0;34m.\u001b[0m\u001b[0mname\u001b[0m\u001b[0;34m)\u001b[0m\u001b[0;34m\u001b[0m\u001b[0m\n\u001b[1;32m    453\u001b[0m     \u001b[0;32melif\u001b[0m \u001b[0misinstance\u001b[0m\u001b[0;34m(\u001b[0m\u001b[0marg\u001b[0m\u001b[0;34m,\u001b[0m \u001b[0;34m(\u001b[0m\u001b[0mABCDataFrame\u001b[0m\u001b[0;34m,\u001b[0m \u001b[0mMutableMapping\u001b[0m\u001b[0;34m)\u001b[0m\u001b[0;34m)\u001b[0m\u001b[0;34m:\u001b[0m\u001b[0;34m\u001b[0m\u001b[0m\n",
      "\u001b[0;32m~/anaconda3/lib/python3.6/site-packages/pandas/core/tools/datetimes.py\u001b[0m in \u001b[0;36m_convert_listlike\u001b[0;34m(arg, box, format, name, tz)\u001b[0m\n\u001b[1;32m    378\u001b[0m                 \u001b[0;32mreturn\u001b[0m \u001b[0mDatetimeIndex\u001b[0m\u001b[0;34m.\u001b[0m\u001b[0m_simple_new\u001b[0m\u001b[0;34m(\u001b[0m\u001b[0mvalues\u001b[0m\u001b[0;34m,\u001b[0m \u001b[0mname\u001b[0m\u001b[0;34m=\u001b[0m\u001b[0mname\u001b[0m\u001b[0;34m,\u001b[0m \u001b[0mtz\u001b[0m\u001b[0;34m=\u001b[0m\u001b[0mtz\u001b[0m\u001b[0;34m)\u001b[0m\u001b[0;34m\u001b[0m\u001b[0m\n\u001b[1;32m    379\u001b[0m             \u001b[0;32mexcept\u001b[0m \u001b[0;34m(\u001b[0m\u001b[0mValueError\u001b[0m\u001b[0;34m,\u001b[0m \u001b[0mTypeError\u001b[0m\u001b[0;34m)\u001b[0m\u001b[0;34m:\u001b[0m\u001b[0;34m\u001b[0m\u001b[0m\n\u001b[0;32m--> 380\u001b[0;31m                 \u001b[0;32mraise\u001b[0m \u001b[0me\u001b[0m\u001b[0;34m\u001b[0m\u001b[0m\n\u001b[0m\u001b[1;32m    381\u001b[0m \u001b[0;34m\u001b[0m\u001b[0m\n\u001b[1;32m    382\u001b[0m     \u001b[0;32mif\u001b[0m \u001b[0marg\u001b[0m \u001b[0;32mis\u001b[0m \u001b[0;32mNone\u001b[0m\u001b[0;34m:\u001b[0m\u001b[0;34m\u001b[0m\u001b[0m\n",
      "\u001b[0;32m~/anaconda3/lib/python3.6/site-packages/pandas/core/tools/datetimes.py\u001b[0m in \u001b[0;36m_convert_listlike\u001b[0;34m(arg, box, format, name, tz)\u001b[0m\n\u001b[1;32m    345\u001b[0m                     \u001b[0;32mtry\u001b[0m\u001b[0;34m:\u001b[0m\u001b[0;34m\u001b[0m\u001b[0m\n\u001b[1;32m    346\u001b[0m                         result = array_strptime(arg, format, exact=exact,\n\u001b[0;32m--> 347\u001b[0;31m                                                 errors=errors)\n\u001b[0m\u001b[1;32m    348\u001b[0m                     \u001b[0;32mexcept\u001b[0m \u001b[0mtslib\u001b[0m\u001b[0;34m.\u001b[0m\u001b[0mOutOfBoundsDatetime\u001b[0m\u001b[0;34m:\u001b[0m\u001b[0;34m\u001b[0m\u001b[0m\n\u001b[1;32m    349\u001b[0m                         \u001b[0;32mif\u001b[0m \u001b[0merrors\u001b[0m \u001b[0;34m==\u001b[0m \u001b[0;34m'raise'\u001b[0m\u001b[0;34m:\u001b[0m\u001b[0;34m\u001b[0m\u001b[0m\n",
      "\u001b[0;32mpandas/_libs/tslibs/strptime.pyx\u001b[0m in \u001b[0;36mpandas._libs.tslibs.strptime.array_strptime\u001b[0;34m()\u001b[0m\n",
      "\u001b[0;32mpandas/_libs/tslibs/strptime.pyx\u001b[0m in \u001b[0;36mpandas._libs.tslibs.strptime.array_strptime\u001b[0;34m()\u001b[0m\n",
      "\u001b[0;32mpandas/_libs/tslibs/np_datetime.pyx\u001b[0m in \u001b[0;36mpandas._libs.tslibs.np_datetime.check_dts_bounds\u001b[0;34m()\u001b[0m\n",
      "\u001b[0;31mOutOfBoundsDatetime\u001b[0m: Out of bounds nanosecond timestamp: 1518-11-01 00:00:00"
     ]
    }
   ],
   "source": [
    "test_df['timestamp_clean'] = pd.to_datetime(test_df['timestamp'].str.replace('\\[|\\]',''),format='%Y-%m-%d %H:%M ')"
   ]
  },
  {
   "cell_type": "code",
   "execution_count": 72,
   "metadata": {},
   "outputs": [
    {
     "data": {
      "text/html": [
       "<div>\n",
       "<style scoped>\n",
       "    .dataframe tbody tr th:only-of-type {\n",
       "        vertical-align: middle;\n",
       "    }\n",
       "\n",
       "    .dataframe tbody tr th {\n",
       "        vertical-align: top;\n",
       "    }\n",
       "\n",
       "    .dataframe thead th {\n",
       "        text-align: right;\n",
       "    }\n",
       "</style>\n",
       "<table border=\"1\" class=\"dataframe\">\n",
       "  <thead>\n",
       "    <tr style=\"text-align: right;\">\n",
       "      <th></th>\n",
       "      <th>entry</th>\n",
       "      <th>timestamp</th>\n",
       "      <th>guard</th>\n",
       "      <th>action</th>\n",
       "      <th>timestamp_clean</th>\n",
       "    </tr>\n",
       "  </thead>\n",
       "  <tbody>\n",
       "    <tr>\n",
       "      <th>0</th>\n",
       "      <td>[1518-11-01 00:00] Guard #10 begins shift</td>\n",
       "      <td>[1518-11-01 00:00]</td>\n",
       "      <td>Guard #10</td>\n",
       "      <td>begins shift</td>\n",
       "      <td>1518-11-01 00:00</td>\n",
       "    </tr>\n",
       "    <tr>\n",
       "      <th>1</th>\n",
       "      <td>[1518-11-01 00:05] falls asleep</td>\n",
       "      <td>[1518-11-01 00:05]</td>\n",
       "      <td>None</td>\n",
       "      <td>falls asleep</td>\n",
       "      <td>1518-11-01 00:05</td>\n",
       "    </tr>\n",
       "    <tr>\n",
       "      <th>2</th>\n",
       "      <td>[1518-11-01 00:25] wakes up</td>\n",
       "      <td>[1518-11-01 00:25]</td>\n",
       "      <td>None</td>\n",
       "      <td>wakes up</td>\n",
       "      <td>1518-11-01 00:25</td>\n",
       "    </tr>\n",
       "    <tr>\n",
       "      <th>3</th>\n",
       "      <td>[1518-11-01 00:30] falls asleep</td>\n",
       "      <td>[1518-11-01 00:30]</td>\n",
       "      <td>None</td>\n",
       "      <td>falls asleep</td>\n",
       "      <td>1518-11-01 00:30</td>\n",
       "    </tr>\n",
       "    <tr>\n",
       "      <th>4</th>\n",
       "      <td>[1518-11-01 00:55] wakes up</td>\n",
       "      <td>[1518-11-01 00:55]</td>\n",
       "      <td>None</td>\n",
       "      <td>wakes up</td>\n",
       "      <td>1518-11-01 00:55</td>\n",
       "    </tr>\n",
       "    <tr>\n",
       "      <th>5</th>\n",
       "      <td>[1518-11-01 23:58] Guard #99 begins shift</td>\n",
       "      <td>[1518-11-01 23:58]</td>\n",
       "      <td>Guard #99</td>\n",
       "      <td>begins shift</td>\n",
       "      <td>1518-11-01 23:58</td>\n",
       "    </tr>\n",
       "    <tr>\n",
       "      <th>6</th>\n",
       "      <td>[1518-11-02 00:40] falls asleep</td>\n",
       "      <td>[1518-11-02 00:40]</td>\n",
       "      <td>None</td>\n",
       "      <td>falls asleep</td>\n",
       "      <td>1518-11-02 00:40</td>\n",
       "    </tr>\n",
       "    <tr>\n",
       "      <th>7</th>\n",
       "      <td>[1518-11-02 00:50] wakes up</td>\n",
       "      <td>[1518-11-02 00:50]</td>\n",
       "      <td>None</td>\n",
       "      <td>wakes up</td>\n",
       "      <td>1518-11-02 00:50</td>\n",
       "    </tr>\n",
       "    <tr>\n",
       "      <th>8</th>\n",
       "      <td>[1518-11-03 00:05] Guard #10 begins shift</td>\n",
       "      <td>[1518-11-03 00:05]</td>\n",
       "      <td>Guard #10</td>\n",
       "      <td>begins shift</td>\n",
       "      <td>1518-11-03 00:05</td>\n",
       "    </tr>\n",
       "    <tr>\n",
       "      <th>9</th>\n",
       "      <td>[1518-11-03 00:24] falls asleep</td>\n",
       "      <td>[1518-11-03 00:24]</td>\n",
       "      <td>None</td>\n",
       "      <td>falls asleep</td>\n",
       "      <td>1518-11-03 00:24</td>\n",
       "    </tr>\n",
       "    <tr>\n",
       "      <th>10</th>\n",
       "      <td>[1518-11-03 00:29] wakes up</td>\n",
       "      <td>[1518-11-03 00:29]</td>\n",
       "      <td>None</td>\n",
       "      <td>wakes up</td>\n",
       "      <td>1518-11-03 00:29</td>\n",
       "    </tr>\n",
       "    <tr>\n",
       "      <th>11</th>\n",
       "      <td>[1518-11-04 00:02] Guard #99 begins shift</td>\n",
       "      <td>[1518-11-04 00:02]</td>\n",
       "      <td>Guard #99</td>\n",
       "      <td>begins shift</td>\n",
       "      <td>1518-11-04 00:02</td>\n",
       "    </tr>\n",
       "    <tr>\n",
       "      <th>12</th>\n",
       "      <td>[1518-11-04 00:36] falls asleep</td>\n",
       "      <td>[1518-11-04 00:36]</td>\n",
       "      <td>None</td>\n",
       "      <td>falls asleep</td>\n",
       "      <td>1518-11-04 00:36</td>\n",
       "    </tr>\n",
       "    <tr>\n",
       "      <th>13</th>\n",
       "      <td>[1518-11-04 00:46] wakes up</td>\n",
       "      <td>[1518-11-04 00:46]</td>\n",
       "      <td>None</td>\n",
       "      <td>wakes up</td>\n",
       "      <td>1518-11-04 00:46</td>\n",
       "    </tr>\n",
       "    <tr>\n",
       "      <th>14</th>\n",
       "      <td>[1518-11-05 00:03] Guard #99 begins shift</td>\n",
       "      <td>[1518-11-05 00:03]</td>\n",
       "      <td>Guard #99</td>\n",
       "      <td>begins shift</td>\n",
       "      <td>1518-11-05 00:03</td>\n",
       "    </tr>\n",
       "    <tr>\n",
       "      <th>15</th>\n",
       "      <td>[1518-11-05 00:45] falls asleep</td>\n",
       "      <td>[1518-11-05 00:45]</td>\n",
       "      <td>None</td>\n",
       "      <td>falls asleep</td>\n",
       "      <td>1518-11-05 00:45</td>\n",
       "    </tr>\n",
       "    <tr>\n",
       "      <th>16</th>\n",
       "      <td>[1518-11-05 00:55] wakes up</td>\n",
       "      <td>[1518-11-05 00:55]</td>\n",
       "      <td>None</td>\n",
       "      <td>wakes up</td>\n",
       "      <td>1518-11-05 00:55</td>\n",
       "    </tr>\n",
       "  </tbody>\n",
       "</table>\n",
       "</div>"
      ],
      "text/plain": [
       "                                        entry            timestamp      guard  \\\n",
       "0   [1518-11-01 00:00] Guard #10 begins shift  [1518-11-01 00:00]   Guard #10   \n",
       "1             [1518-11-01 00:05] falls asleep  [1518-11-01 00:05]        None   \n",
       "2                 [1518-11-01 00:25] wakes up  [1518-11-01 00:25]        None   \n",
       "3             [1518-11-01 00:30] falls asleep  [1518-11-01 00:30]        None   \n",
       "4                 [1518-11-01 00:55] wakes up  [1518-11-01 00:55]        None   \n",
       "5   [1518-11-01 23:58] Guard #99 begins shift  [1518-11-01 23:58]   Guard #99   \n",
       "6             [1518-11-02 00:40] falls asleep  [1518-11-02 00:40]        None   \n",
       "7                 [1518-11-02 00:50] wakes up  [1518-11-02 00:50]        None   \n",
       "8   [1518-11-03 00:05] Guard #10 begins shift  [1518-11-03 00:05]   Guard #10   \n",
       "9             [1518-11-03 00:24] falls asleep  [1518-11-03 00:24]        None   \n",
       "10                [1518-11-03 00:29] wakes up  [1518-11-03 00:29]        None   \n",
       "11  [1518-11-04 00:02] Guard #99 begins shift  [1518-11-04 00:02]   Guard #99   \n",
       "12            [1518-11-04 00:36] falls asleep  [1518-11-04 00:36]        None   \n",
       "13                [1518-11-04 00:46] wakes up  [1518-11-04 00:46]        None   \n",
       "14  [1518-11-05 00:03] Guard #99 begins shift  [1518-11-05 00:03]   Guard #99   \n",
       "15            [1518-11-05 00:45] falls asleep  [1518-11-05 00:45]        None   \n",
       "16                [1518-11-05 00:55] wakes up  [1518-11-05 00:55]        None   \n",
       "\n",
       "           action    timestamp_clean  \n",
       "0    begins shift  1518-11-01 00:00   \n",
       "1    falls asleep  1518-11-01 00:05   \n",
       "2        wakes up  1518-11-01 00:25   \n",
       "3    falls asleep  1518-11-01 00:30   \n",
       "4        wakes up  1518-11-01 00:55   \n",
       "5    begins shift  1518-11-01 23:58   \n",
       "6    falls asleep  1518-11-02 00:40   \n",
       "7        wakes up  1518-11-02 00:50   \n",
       "8    begins shift  1518-11-03 00:05   \n",
       "9    falls asleep  1518-11-03 00:24   \n",
       "10       wakes up  1518-11-03 00:29   \n",
       "11   begins shift  1518-11-04 00:02   \n",
       "12   falls asleep  1518-11-04 00:36   \n",
       "13       wakes up  1518-11-04 00:46   \n",
       "14   begins shift  1518-11-05 00:03   \n",
       "15   falls asleep  1518-11-05 00:45   \n",
       "16       wakes up  1518-11-05 00:55   "
      ]
     },
     "execution_count": 72,
     "metadata": {},
     "output_type": "execute_result"
    }
   ],
   "source": [
    "test_df"
   ]
  },
  {
   "cell_type": "code",
   "execution_count": 61,
   "metadata": {},
   "outputs": [
    {
     "data": {
      "text/html": [
       "<div>\n",
       "<style scoped>\n",
       "    .dataframe tbody tr th:only-of-type {\n",
       "        vertical-align: middle;\n",
       "    }\n",
       "\n",
       "    .dataframe tbody tr th {\n",
       "        vertical-align: top;\n",
       "    }\n",
       "\n",
       "    .dataframe thead th {\n",
       "        text-align: right;\n",
       "    }\n",
       "</style>\n",
       "<table border=\"1\" class=\"dataframe\">\n",
       "  <thead>\n",
       "    <tr style=\"text-align: right;\">\n",
       "      <th></th>\n",
       "      <th>entries</th>\n",
       "    </tr>\n",
       "  </thead>\n",
       "  <tbody>\n",
       "    <tr>\n",
       "      <th>0</th>\n",
       "      <td>[1518-07-04 00:01] falls asleep</td>\n",
       "    </tr>\n",
       "    <tr>\n",
       "      <th>1</th>\n",
       "      <td>[1518-06-27 00:42] wakes up</td>\n",
       "    </tr>\n",
       "    <tr>\n",
       "      <th>2</th>\n",
       "      <td>[1518-06-12 00:48] wakes up</td>\n",
       "    </tr>\n",
       "    <tr>\n",
       "      <th>3</th>\n",
       "      <td>[1518-06-07 00:03] Guard #2789 begins shift</td>\n",
       "    </tr>\n",
       "    <tr>\n",
       "      <th>4</th>\n",
       "      <td>[1518-08-11 00:04] Guard #643 begins shift</td>\n",
       "    </tr>\n",
       "  </tbody>\n",
       "</table>\n",
       "</div>"
      ],
      "text/plain": [
       "                                       entries\n",
       "0              [1518-07-04 00:01] falls asleep\n",
       "1                  [1518-06-27 00:42] wakes up\n",
       "2                  [1518-06-12 00:48] wakes up\n",
       "3  [1518-06-07 00:03] Guard #2789 begins shift\n",
       "4   [1518-08-11 00:04] Guard #643 begins shift"
      ]
     },
     "execution_count": 61,
     "metadata": {},
     "output_type": "execute_result"
    }
   ],
   "source": [
    "puz_df.head()"
   ]
  },
  {
   "cell_type": "code",
   "execution_count": null,
   "metadata": {},
   "outputs": [],
   "source": []
  }
 ],
 "metadata": {
  "kernelspec": {
   "display_name": "Python 3",
   "language": "python",
   "name": "python3"
  },
  "language_info": {
   "codemirror_mode": {
    "name": "ipython",
    "version": 3
   },
   "file_extension": ".py",
   "mimetype": "text/x-python",
   "name": "python",
   "nbconvert_exporter": "python",
   "pygments_lexer": "ipython3",
   "version": "3.6.5"
  }
 },
 "nbformat": 4,
 "nbformat_minor": 2
}
