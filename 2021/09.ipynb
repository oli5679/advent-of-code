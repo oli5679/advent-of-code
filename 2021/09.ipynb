{
 "cells": [
  {
   "cell_type": "markdown",
   "id": "b1a658aa-6302-4aab-bfd5-94e240e34d4f",
   "metadata": {},
   "source": [
    "--- Day 9: Smoke Basin ---\n",
    "These caves seem to be lava tubes. Parts are even still volcanically active; small hydrothermal vents release smoke into the caves that slowly settles like rain.\n",
    "\n",
    "If you can model how the smoke flows through the caves, you might be able to avoid it and be that much safer. The submarine generates a heightmap of the floor of the nearby caves for you (your puzzle input).\n",
    "\n",
    "Smoke flows to the lowest point of the area it's in. For example, consider the following heightmap:\n",
    "\n",
    "    2199943210\n",
    "    3987894921\n",
    "    9856789892\n",
    "    8767896789\n",
    "    9899965678\n",
    "\n",
    "Each number corresponds to the height of a particular location, where 9 is the highest and 0 is the lowest a location can be.\n",
    "\n",
    "Your first goal is to find the low points - the locations that are lower than any of its adjacent locations. Most locations have four adjacent locations (up, down, left, and right); locations on the edge or corner of the map have three or two adjacent locations, respectively. (Diagonal locations do not count as adjacent.)\n",
    "\n",
    "In the above example, there are four low points, all highlighted: two are in the first row (a 1 and a 0), one is in the third row (a 5), and one is in the bottom row (also a 5). All other locations on the heightmap have some lower adjacent location, and so are not low points.\n",
    "\n",
    "The risk level of a low point is 1 plus its height. In the above example, the risk levels of the low points are 2, 1, 6, and 6. The sum of the risk levels of all low points in the heightmap is therefore 15.\n",
    "\n",
    "Find all of the low points on your heightmap. What is the sum of the risk levels of all low points on your heightmap?"
   ]
  },
  {
   "cell_type": "code",
   "execution_count": 1,
   "id": "432121fd-cf80-4413-b2f0-338bffd06ab2",
   "metadata": {},
   "outputs": [],
   "source": [
    "import numpy as np"
   ]
  },
  {
   "cell_type": "code",
   "execution_count": 2,
   "id": "ca6cd846-aaf7-4cf4-ac52-ae7e1fcc146f",
   "metadata": {},
   "outputs": [],
   "source": [
    "test_input = '''2199943210\n",
    "3987894921\n",
    "9856789892\n",
    "8767896789\n",
    "9899965678'''"
   ]
  },
  {
   "cell_type": "code",
   "execution_count": 3,
   "id": "d5a5540f-d103-4d03-96f3-b422c6a4fc4f",
   "metadata": {},
   "outputs": [],
   "source": [
    "test_arr = np.array([[int(x) for x in r] \n",
    "          for r in test_input.split()])"
   ]
  },
  {
   "cell_type": "code",
   "execution_count": 4,
   "id": "17d995aa-f327-4531-8315-fc1a4b50e77e",
   "metadata": {},
   "outputs": [],
   "source": [
    "def solve(arr):\n",
    "    padded = np.pad(arr,pad_width=1,mode='maximum')\n",
    "    results = np.ones(padded.shape)\n",
    "    for shift in (-1,1):\n",
    "        for axis in (0,1):\n",
    "            shifted = np.roll(padded,shift, axis)\n",
    "            results = results * (shifted > padded)\n",
    "    unpadded_results = results[1:-1,1:-1]\n",
    "    return (unpadded_results * (arr+1)).sum() "
   ]
  },
  {
   "cell_type": "code",
   "execution_count": 5,
   "id": "18089737-0e93-4c4f-84b7-84f87d2374cf",
   "metadata": {},
   "outputs": [],
   "source": [
    "assert solve(test_arr) == 15"
   ]
  },
  {
   "cell_type": "code",
   "execution_count": 6,
   "id": "defdb692-d9c8-4385-b82d-02654cee6322",
   "metadata": {},
   "outputs": [],
   "source": [
    "input_val = open('data/09.txt','r').read()"
   ]
  },
  {
   "cell_type": "code",
   "execution_count": 7,
   "id": "a4986ca1-4f80-465f-9de1-6b8c32b9da09",
   "metadata": {},
   "outputs": [],
   "source": [
    "arr = np.array([[int(x) for x in r] \n",
    "          for r in input_val.split()])"
   ]
  },
  {
   "cell_type": "code",
   "execution_count": 8,
   "id": "241978f9-9a52-4020-9fee-2e46fc59f27d",
   "metadata": {},
   "outputs": [
    {
     "data": {
      "text/plain": [
       "537.0"
      ]
     },
     "execution_count": 8,
     "metadata": {},
     "output_type": "execute_result"
    }
   ],
   "source": [
    "solve(arr)"
   ]
  },
  {
   "cell_type": "code",
   "execution_count": 9,
   "id": "32bbdc10-8e85-427e-a3b6-5f088ef3c29d",
   "metadata": {},
   "outputs": [],
   "source": [
    "children = []"
   ]
  },
  {
   "cell_type": "code",
   "execution_count": 10,
   "id": "01d2b201-ed9b-4131-93f1-3d77a890d894",
   "metadata": {},
   "outputs": [],
   "source": [
    "basin = test_arr"
   ]
  },
  {
   "cell_type": "code",
   "execution_count": 12,
   "id": "e9b74e52-e2c2-4d2d-ac77-10bb7708f528",
   "metadata": {},
   "outputs": [],
   "source": [
    "def adjacent(start,end):\n",
    "    diff_i = abs(start[0] - end[0])\n",
    "    diff_j = abs(start[1] - end[1])\n",
    "    return sorted([diff_i,diff_j]) == [0,1]"
   ]
  },
  {
   "cell_type": "code",
   "execution_count": 13,
   "id": "d4d37075-bec1-4d9f-a688-bb4a360b823b",
   "metadata": {},
   "outputs": [],
   "source": [
    "def find_basins(basin_map):\n",
    "    groups = []\n",
    "    for i in range(9):\n",
    "        for cell in np.ndindex(basin_map.shape):\n",
    "            if basin_map[cell] == i:\n",
    "                flag = True\n",
    "                for group in groups:\n",
    "                    if cell not in group:\n",
    "                        for i_cell in group:\n",
    "                            if flag and adjacent(cell,i_cell) and (basin_map[cell] -  basin_map[i_cell] == 1):\n",
    "                                group += [cell]\n",
    "                                flag = False\n",
    "                if flag:\n",
    "                    groups.append([cell])\n",
    "    return np.prod(sorted([len(x) for x in groups])[-3:])"
   ]
  },
  {
   "cell_type": "code",
   "execution_count": 14,
   "id": "66aacb1a-e507-4e4c-928b-bb7a476e9a1c",
   "metadata": {},
   "outputs": [],
   "source": [
    "assert find_basins(test_arr) == 1134"
   ]
  },
  {
   "cell_type": "code",
   "execution_count": 15,
   "id": "0dd4f2e0-962b-4cf3-905e-4ee92341f1e4",
   "metadata": {},
   "outputs": [
    {
     "data": {
      "text/plain": [
       "675783"
      ]
     },
     "execution_count": 15,
     "metadata": {},
     "output_type": "execute_result"
    }
   ],
   "source": [
    "find_basins(arr)"
   ]
  },
  {
   "cell_type": "markdown",
   "id": "ca6288f6-453d-4ccc-8916-044c9c35a0d7",
   "metadata": {},
   "source": [
    ":("
   ]
  },
  {
   "cell_type": "code",
   "execution_count": null,
   "id": "bf88ab30-1b0c-47ec-aad1-dfe6ecfec7b0",
   "metadata": {},
   "outputs": [],
   "source": []
  }
 ],
 "metadata": {
  "kernelspec": {
   "display_name": "Python 3",
   "language": "python",
   "name": "python3"
  },
  "language_info": {
   "codemirror_mode": {
    "name": "ipython",
    "version": 3
   },
   "file_extension": ".py",
   "mimetype": "text/x-python",
   "name": "python",
   "nbconvert_exporter": "python",
   "pygments_lexer": "ipython3",
   "version": "3.6.10"
  }
 },
 "nbformat": 4,
 "nbformat_minor": 5
}
