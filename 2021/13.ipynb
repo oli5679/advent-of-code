{
 "cells": [
  {
   "cell_type": "code",
   "execution_count": 1,
   "id": "de474197-1a58-4b67-ae3a-107e4c18cb93",
   "metadata": {},
   "outputs": [],
   "source": [
    "import numpy as np"
   ]
  },
  {
   "cell_type": "code",
   "execution_count": 2,
   "id": "85d418be-6fe6-42f6-a003-f597e2c0d938",
   "metadata": {},
   "outputs": [],
   "source": [
    "dots_f = '''6,10\n",
    "0,14\n",
    "9,10\n",
    "0,3\n",
    "10,4\n",
    "4,11\n",
    "6,0\n",
    "6,12\n",
    "4,1\n",
    "0,13\n",
    "10,12\n",
    "3,4\n",
    "3,0\n",
    "8,4\n",
    "1,10\n",
    "2,14\n",
    "8,10\n",
    "9,0'''\n",
    "\n",
    "instructions = '''fold along y=7\n",
    "fold along x=5'''"
   ]
  },
  {
   "cell_type": "code",
   "execution_count": 3,
   "id": "024ebb28-d5be-49c3-81d0-d473af8378e9",
   "metadata": {},
   "outputs": [],
   "source": [
    "def make_napkin(dots_input):\n",
    "    dots = [[int(x) for x in dot.split(',')] for dot in dots_input.split('\\n')]\n",
    "    max_vals = np.array(dots).max(axis=0)\n",
    "    napkin = np.zeros(max_vals+1)\n",
    "    for x,y in dots:\n",
    "        napkin[x][y] = 1\n",
    "    return napkin"
   ]
  },
  {
   "cell_type": "code",
   "execution_count": 4,
   "id": "2aa0f0bd-5d5b-4d03-b6bf-1627e523ea15",
   "metadata": {},
   "outputs": [],
   "source": [
    "test_napkin = make_napkin(dots_f)"
   ]
  },
  {
   "cell_type": "code",
   "execution_count": 5,
   "id": "29284841-2e55-4c4c-b27e-05bd8d5d097b",
   "metadata": {},
   "outputs": [],
   "source": [
    "def fold(napkin, folds):\n",
    "    _napkin= napkin.copy()\n",
    "    for axis, fold in folds:\n",
    "        fold = int(fold)\n",
    "        if axis == 'y':\n",
    "            folded = _napkin[:,:fold] + np.flip(_napkin[:,fold+1:],axis=1)\n",
    "        else:\n",
    "            folded = _napkin[:fold,:] + np.flip(_napkin[fold+1:,:],axis=0)\n",
    "        _napkin = folded > 0\n",
    "    return _napkin.astype(int)"
   ]
  },
  {
   "cell_type": "code",
   "execution_count": 6,
   "id": "cd7310e1-6c54-4f97-84ed-8fef85382a8c",
   "metadata": {},
   "outputs": [
    {
     "data": {
      "text/plain": [
       "array([[1, 0, 1, 1, 0, 0, 1, 0, 0, 1, 0],\n",
       "       [1, 0, 0, 0, 1, 0, 0, 0, 0, 0, 0],\n",
       "       [0, 0, 0, 0, 0, 0, 1, 0, 0, 0, 1],\n",
       "       [1, 0, 0, 0, 1, 0, 0, 0, 0, 0, 0],\n",
       "       [0, 1, 0, 1, 0, 0, 1, 0, 1, 1, 1],\n",
       "       [0, 0, 0, 0, 0, 0, 0, 0, 0, 0, 0],\n",
       "       [0, 0, 0, 0, 0, 0, 0, 0, 0, 0, 0]])"
      ]
     },
     "execution_count": 6,
     "metadata": {},
     "output_type": "execute_result"
    }
   ],
   "source": [
    "fold(test_napkin,[['y',7]]).T"
   ]
  },
  {
   "cell_type": "code",
   "execution_count": 7,
   "id": "f356ee3d-76f8-4c52-99d0-0fd659968adc",
   "metadata": {},
   "outputs": [
    {
     "data": {
      "text/plain": [
       "array([[1, 1, 1, 1, 1],\n",
       "       [1, 0, 0, 0, 1],\n",
       "       [1, 0, 0, 0, 1],\n",
       "       [1, 0, 0, 0, 1],\n",
       "       [1, 1, 1, 1, 1],\n",
       "       [0, 0, 0, 0, 0],\n",
       "       [0, 0, 0, 0, 0]])"
      ]
     },
     "execution_count": 7,
     "metadata": {},
     "output_type": "execute_result"
    }
   ],
   "source": [
    "fold(test_napkin,[['y',7],['x',5]]).T"
   ]
  },
  {
   "cell_type": "code",
   "execution_count": 8,
   "id": "6fc05b6c-4ac6-4f88-9be7-9fdad911ac5b",
   "metadata": {},
   "outputs": [],
   "source": [
    "input_dots = open('data/13.txt','r').read() # I manually split out the instructions\n",
    "\n",
    "napkin = make_napkin(input_dots)"
   ]
  },
  {
   "cell_type": "code",
   "execution_count": 9,
   "id": "92fb5c8a-b947-4b2d-8057-7c2e2263daa4",
   "metadata": {},
   "outputs": [],
   "source": [
    "instructions = '''fold along x=655\n",
    "fold along y=447\n",
    "fold along x=327\n",
    "fold along y=223\n",
    "fold along x=163\n",
    "fold along y=111\n",
    "fold along x=81\n",
    "fold along y=55\n",
    "fold along x=40\n",
    "fold along y=27\n",
    "fold along y=13\n",
    "fold along y=6'''"
   ]
  },
  {
   "cell_type": "code",
   "execution_count": 10,
   "id": "7fa62cd8-bbd0-4da1-b6da-18fefa3f2085",
   "metadata": {},
   "outputs": [],
   "source": [
    "folds = [i.replace('fold along ','').split('=') for i in instructions.split('\\n') ]"
   ]
  },
  {
   "cell_type": "code",
   "execution_count": 11,
   "id": "c4685e65-0fe3-46b3-baaf-4f6faec20b35",
   "metadata": {},
   "outputs": [
    {
     "data": {
      "text/plain": [
       "942"
      ]
     },
     "execution_count": 11,
     "metadata": {},
     "output_type": "execute_result"
    }
   ],
   "source": [
    "fold(napkin,[['x','655']]).sum()"
   ]
  },
  {
   "cell_type": "code",
   "execution_count": null,
   "id": "3171abfa-4fc6-4119-950b-038b5a375361",
   "metadata": {},
   "outputs": [],
   "source": []
  }
 ],
 "metadata": {
  "kernelspec": {
   "display_name": "Python 3",
   "language": "python",
   "name": "python3"
  },
  "language_info": {
   "codemirror_mode": {
    "name": "ipython",
    "version": 3
   },
   "file_extension": ".py",
   "mimetype": "text/x-python",
   "name": "python",
   "nbconvert_exporter": "python",
   "pygments_lexer": "ipython3",
   "version": "3.6.10"
  }
 },
 "nbformat": 4,
 "nbformat_minor": 5
}
