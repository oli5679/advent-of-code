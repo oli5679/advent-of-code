{
 "cells": [
  {
   "cell_type": "markdown",
   "id": "d38287a9-e4e4-404b-b521-9c0090fa9daf",
   "metadata": {},
   "source": [
    "--- Day 7: The Treachery of Whales ---\n",
    "A giant whale has decided your submarine is its next meal, and it's much faster than you are. There's nowhere to run!\n",
    "\n",
    "Suddenly, a swarm of crabs (each in its own tiny submarine - it's too deep for them otherwise) zooms in to rescue you! They seem to be preparing to blast a hole in the ocean floor; sensors indicate a massive underground cave system just beyond where they're aiming!\n",
    "\n",
    "The crab submarines all need to be aligned before they'll have enough power to blast a large enough hole for your submarine to get through. However, it doesn't look like they'll be aligned before the whale catches you! Maybe you can help?\n",
    "\n",
    "There's one major catch - crab submarines can only move horizontally.\n",
    "\n",
    "You quickly make a list of the horizontal position of each crab (your puzzle input). Crab submarines have limited fuel, so you need to find a way to make all of their horizontal positions match while requiring them to spend as little fuel as possible.\n",
    "\n",
    "For example, consider the following horizontal positions:\n",
    "\n",
    "16,1,2,0,4,2,7,1,2,14\n",
    "This means there's a crab with horizontal position 16, a crab with horizontal position 1, and so on.\n",
    "\n",
    "Each change of 1 step in horizontal position of a single crab costs 1 fuel. You could choose any horizontal position to align them all on, but the one that costs the least fuel is horizontal position 2:\n",
    "\n",
    "    Move from 16 to 2: 14 fuel\n",
    "    Move from 1 to 2: 1 fuel\n",
    "    Move from 2 to 2: 0 fuel\n",
    "    Move from 0 to 2: 2 fuel\n",
    "    Move from 4 to 2: 2 fuel\n",
    "    Move from 2 to 2: 0 fuel\n",
    "    Move from 7 to 2: 5 fuel\n",
    "    Move from 1 to 2: 1 fuel\n",
    "    Move from 2 to 2: 0 fuel\n",
    "    Move from 14 to 2: 12 fuel\n",
    "\n",
    "This costs a total of 37 fuel. This is the cheapest possible outcome; more expensive outcomes include aligning at position 1 (41 fuel), position 3 (39 fuel), or position 10 (71 fuel).\n",
    "\n",
    "Determine the horizontal position that the crabs can align to using the least fuel possible. How much fuel must they spend to align to that position?"
   ]
  },
  {
   "cell_type": "code",
   "execution_count": 6,
   "id": "ac6c9a15-cf5a-451e-a30e-8e2e6456005e",
   "metadata": {},
   "outputs": [],
   "source": [
    "import numpy as np"
   ]
  },
  {
   "cell_type": "code",
   "execution_count": 23,
   "id": "32925b22-4c18-430a-8de0-da7b18e72921",
   "metadata": {},
   "outputs": [],
   "source": [
    "test_input =np.array([16,1,2,0,4,2,7,1,2,14])"
   ]
  },
  {
   "cell_type": "code",
   "execution_count": 37,
   "id": "3737473d-ce5d-4d77-aba1-dce6d7df3070",
   "metadata": {},
   "outputs": [],
   "source": [
    "assert np.abs(test_input - np.percentile(test_input,50)).sum() == 37"
   ]
  },
  {
   "cell_type": "code",
   "execution_count": 38,
   "id": "93f86960-372d-423c-8128-ac81fefb70f8",
   "metadata": {},
   "outputs": [],
   "source": [
    "inputs = np.array([int(x) for \n",
    "          x in open('data/07.txt','r').read().split(',')])"
   ]
  },
  {
   "cell_type": "code",
   "execution_count": 39,
   "id": "e44bfc29-f992-47a8-977e-59f73b73b56b",
   "metadata": {},
   "outputs": [
    {
     "data": {
      "text/plain": [
       "335271.0"
      ]
     },
     "execution_count": 39,
     "metadata": {},
     "output_type": "execute_result"
    }
   ],
   "source": [
    "np.abs(inputs - np.percentile(np.array(inputs),50)).sum()"
   ]
  },
  {
   "cell_type": "code",
   "execution_count": 32,
   "id": "9cd51fd5-1269-4ae4-9362-c0d8e3d49cd7",
   "metadata": {},
   "outputs": [
    {
     "data": {
      "text/plain": [
       "291.0"
      ]
     },
     "execution_count": 32,
     "metadata": {},
     "output_type": "execute_result"
    }
   ],
   "source": [
    "((test_input - np.round(test_input.mean())) **2).sum()"
   ]
  },
  {
   "cell_type": "code",
   "execution_count": 45,
   "id": "f7a2a069-0ad6-4c92-812e-12a21953b0ef",
   "metadata": {},
   "outputs": [],
   "source": [
    "def error(distance):\n",
    "    abs_distance = abs(distance)\n",
    "    return (abs_distance / 2) * (abs_distance + 1)\n",
    "\n",
    "def min_error(input_vals):\n",
    "    return min(\n",
    "        sum([error(i-val) for i in input_vals]) \n",
    "        for val in range(min(input_vals),max(input_vals)+1))\n",
    "\n",
    "assert min_error(test_input) == 168"
   ]
  },
  {
   "cell_type": "code",
   "execution_count": 46,
   "id": "fa3fd65b-34c6-4bc8-ae93-da66fa5f2c2c",
   "metadata": {},
   "outputs": [
    {
     "data": {
      "text/plain": [
       "95851339.0"
      ]
     },
     "execution_count": 46,
     "metadata": {},
     "output_type": "execute_result"
    }
   ],
   "source": [
    "min_error(inputs)"
   ]
  },
  {
   "cell_type": "code",
   "execution_count": 49,
   "id": "f4c4a00f-8d3c-44a2-a82d-1c05fef26463",
   "metadata": {},
   "outputs": [
    {
     "data": {
      "text/plain": [
       "461"
      ]
     },
     "execution_count": 49,
     "metadata": {},
     "output_type": "execute_result"
    }
   ],
   "source": [
    "min(range(min(inputs),max(inputs)+1),key = lambda x:  sum([error(i-x) for i in inputs]))"
   ]
  },
  {
   "cell_type": "code",
   "execution_count": 50,
   "id": "d4b987f6-aeb6-4e56-9a4a-03442706c77d",
   "metadata": {},
   "outputs": [
    {
     "data": {
      "text/plain": [
       "461.611"
      ]
     },
     "execution_count": 50,
     "metadata": {},
     "output_type": "execute_result"
    }
   ],
   "source": [
    "inputs.mean()"
   ]
  },
  {
   "cell_type": "code",
   "execution_count": null,
   "id": "70bcc9d8-357d-4b4b-8263-09859c6d2882",
   "metadata": {},
   "outputs": [],
   "source": []
  }
 ],
 "metadata": {
  "kernelspec": {
   "display_name": "Python 3",
   "language": "python",
   "name": "python3"
  },
  "language_info": {
   "codemirror_mode": {
    "name": "ipython",
    "version": 3
   },
   "file_extension": ".py",
   "mimetype": "text/x-python",
   "name": "python",
   "nbconvert_exporter": "python",
   "pygments_lexer": "ipython3",
   "version": "3.6.10"
  }
 },
 "nbformat": 4,
 "nbformat_minor": 5
}
