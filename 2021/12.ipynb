{
 "cells": [
  {
   "cell_type": "code",
   "execution_count": 34,
   "id": "f21259fa-4500-4911-9de7-a508b1a09322",
   "metadata": {},
   "outputs": [],
   "source": [
    "test_input_1 = '''start-A\n",
    "start-b\n",
    "A-c\n",
    "A-b\n",
    "b-d\n",
    "A-end\n",
    "b-end'''"
   ]
  },
  {
   "cell_type": "code",
   "execution_count": 81,
   "id": "b22165f0-c02c-41b2-be1e-89a6a08516a1",
   "metadata": {},
   "outputs": [],
   "source": [
    "def parse_input(input_s):\n",
    "    parsed = [x.split('-') for x in input_s.split('\\n')]\n",
    "    both_directions = parsed + [[b,a] for a,b in parsed if a != 'start' and b != 'end']\n",
    "    starts = [x for x in both_directions if x[0] == 'start']\n",
    "    return starts, both_directions\n",
    "    "
   ]
  },
  {
   "cell_type": "code",
   "execution_count": 117,
   "id": "db795ceb-d82f-4c5b-b571-53352ef8f982",
   "metadata": {},
   "outputs": [],
   "source": [
    "def find_journeys(journey, both_directions, small_cave_budget = 0):\n",
    "    current = journey[-1]\n",
    "    if current == 'end':\n",
    "        return [journey]\n",
    "    else:\n",
    "        journeys = []\n",
    "        for start, end in both_directions:\n",
    "            if current == start:\n",
    "                if end == end.upper():\n",
    "                    journeys += find_journeys(journey + [end], both_directions, small_cave_budget)\n",
    "                elif end not in journey:\n",
    "                    journeys += find_journeys(journey + [end], both_directions, small_cave_budget)\n",
    "                elif small_cave_budget > 0 and end != 'start':\n",
    "                    journeys += find_journeys(journey + [end], both_directions, small_cave_budget-1)\n",
    "        return journeys"
   ]
  },
  {
   "cell_type": "code",
   "execution_count": 156,
   "id": "60e50e30-ef77-495b-a879-2af9df56ab64",
   "metadata": {},
   "outputs": [],
   "source": [
    "def count_journeys(starts, both_directions, small_cave_budget=0):\n",
    "    res = []\n",
    "    for start in starts:\n",
    "        res += find_journeys(start, both_directions, small_cave_budget)\n",
    "    return len(res)"
   ]
  },
  {
   "cell_type": "code",
   "execution_count": 131,
   "id": "4898fb1f-0625-41f8-a627-32a8be63a0a4",
   "metadata": {},
   "outputs": [],
   "source": [
    "starts_1,both_directions_1 = parse_input(test_input_1)"
   ]
  },
  {
   "cell_type": "code",
   "execution_count": 132,
   "id": "9581facc-c4fc-4e46-a006-e6ebe1dad3ed",
   "metadata": {},
   "outputs": [],
   "source": [
    "assert count_journeys(starts_1,both_directions_1) == 10"
   ]
  },
  {
   "cell_type": "code",
   "execution_count": 133,
   "id": "06ddee31-ede4-45bd-aba6-07eeb78710b9",
   "metadata": {},
   "outputs": [],
   "source": [
    "test_2 = '''dc-end\n",
    "HN-start\n",
    "start-kj\n",
    "dc-start\n",
    "dc-HN\n",
    "LN-dc\n",
    "HN-end\n",
    "kj-sa\n",
    "kj-HN\n",
    "kj-dc'''"
   ]
  },
  {
   "cell_type": "code",
   "execution_count": 134,
   "id": "c2b50637-eaae-43ba-bc97-e2a6562defdc",
   "metadata": {},
   "outputs": [],
   "source": [
    "starts_2, both_directions_2 = parse_input(test_2)"
   ]
  },
  {
   "cell_type": "code",
   "execution_count": 135,
   "id": "d4af08b6-519a-4ed3-ad2b-af7a6aec9e28",
   "metadata": {},
   "outputs": [],
   "source": [
    "assert count_journeys(starts_2,both_directions_2,) == 19"
   ]
  },
  {
   "cell_type": "code",
   "execution_count": 136,
   "id": "b49f807f-f141-4506-90f9-0c11e544e92b",
   "metadata": {},
   "outputs": [],
   "source": [
    "test_3 = '''fs-end\n",
    "he-DX\n",
    "fs-he\n",
    "start-DX\n",
    "pj-DX\n",
    "end-zg\n",
    "zg-sl\n",
    "zg-pj\n",
    "pj-he\n",
    "RW-he\n",
    "fs-DX\n",
    "pj-RW\n",
    "zg-RW\n",
    "start-pj\n",
    "he-WI\n",
    "zg-he\n",
    "pj-fs\n",
    "start-RW'''"
   ]
  },
  {
   "cell_type": "code",
   "execution_count": 137,
   "id": "d10f6db4-21f7-4bbd-808b-bfdb57685625",
   "metadata": {},
   "outputs": [],
   "source": [
    "starts_3, both_directions_3 = parse_input(test_3)"
   ]
  },
  {
   "cell_type": "code",
   "execution_count": 138,
   "id": "ad009157-85f0-4f66-8f38-6ba136e47150",
   "metadata": {},
   "outputs": [
    {
     "data": {
      "text/plain": [
       "226"
      ]
     },
     "execution_count": 138,
     "metadata": {},
     "output_type": "execute_result"
    }
   ],
   "source": [
    "count_journeys(starts_3,both_directions_3,)"
   ]
  },
  {
   "cell_type": "code",
   "execution_count": 139,
   "id": "6f25a06d-d709-47b4-bea0-72a95058f4fe",
   "metadata": {},
   "outputs": [],
   "source": [
    "input_s = '''rf-RL\n",
    "rf-wz\n",
    "wz-RL\n",
    "AV-mh\n",
    "end-wz\n",
    "end-dm\n",
    "wz-gy\n",
    "wz-dm\n",
    "cg-AV\n",
    "rf-AV\n",
    "rf-gy\n",
    "end-mh\n",
    "cg-gy\n",
    "cg-RL\n",
    "gy-RL\n",
    "VI-gy\n",
    "AV-gy\n",
    "dm-rf\n",
    "start-cg\n",
    "start-RL\n",
    "rf-mh\n",
    "AV-start\n",
    "qk-mh\n",
    "wz-mh'''"
   ]
  },
  {
   "cell_type": "code",
   "execution_count": 148,
   "id": "8af7935d-cc79-488f-b9b1-9a2a7db7c203",
   "metadata": {},
   "outputs": [],
   "source": [
    "starts_4, both_directions_4 = parse_input(input_s)"
   ]
  },
  {
   "cell_type": "code",
   "execution_count": 149,
   "id": "2068e4af-ab24-41ca-9ef6-5d3abb00e235",
   "metadata": {},
   "outputs": [
    {
     "data": {
      "text/plain": [
       "97373"
      ]
     },
     "execution_count": 149,
     "metadata": {},
     "output_type": "execute_result"
    }
   ],
   "source": [
    "count_journeys(starts_4,both_directions_4,1)"
   ]
  },
  {
   "cell_type": "code",
   "execution_count": 147,
   "id": "ed6efbcd-38ec-45cd-be66-36ee183ec8a8",
   "metadata": {},
   "outputs": [
    {
     "data": {
      "text/plain": [
       "36"
      ]
     },
     "execution_count": 147,
     "metadata": {},
     "output_type": "execute_result"
    }
   ],
   "source": [
    "count_journeys(starts_1,both_directions_1,1)"
   ]
  },
  {
   "cell_type": "code",
   "execution_count": 157,
   "id": "d31ee1ae-c51d-4c10-a9e0-1db743a80487",
   "metadata": {},
   "outputs": [
    {
     "data": {
      "text/plain": [
       "103"
      ]
     },
     "execution_count": 157,
     "metadata": {},
     "output_type": "execute_result"
    }
   ],
   "source": [
    "count_journeys(starts_2,both_directions_2,1)"
   ]
  },
  {
   "cell_type": "code",
   "execution_count": 158,
   "id": "860b1995-9794-444c-872c-a4e711743da5",
   "metadata": {},
   "outputs": [
    {
     "data": {
      "text/plain": [
       "3509"
      ]
     },
     "execution_count": 158,
     "metadata": {},
     "output_type": "execute_result"
    }
   ],
   "source": [
    "count_journeys(starts_3,both_directions_3,1)"
   ]
  },
  {
   "cell_type": "code",
   "execution_count": 159,
   "id": "e0fdc974-9754-4fd2-82f4-33d04f130b04",
   "metadata": {},
   "outputs": [
    {
     "data": {
      "text/plain": [
       "84870"
      ]
     },
     "execution_count": 159,
     "metadata": {},
     "output_type": "execute_result"
    }
   ],
   "source": [
    "count_journeys(starts_4,both_directions_4,1)"
   ]
  },
  {
   "cell_type": "code",
   "execution_count": null,
   "id": "b8784ce4-c227-49c0-a37a-d3ce0817de93",
   "metadata": {},
   "outputs": [],
   "source": []
  }
 ],
 "metadata": {
  "kernelspec": {
   "display_name": "Python 3",
   "language": "python",
   "name": "python3"
  },
  "language_info": {
   "codemirror_mode": {
    "name": "ipython",
    "version": 3
   },
   "file_extension": ".py",
   "mimetype": "text/x-python",
   "name": "python",
   "nbconvert_exporter": "python",
   "pygments_lexer": "ipython3",
   "version": "3.6.10"
  }
 },
 "nbformat": 4,
 "nbformat_minor": 5
}
