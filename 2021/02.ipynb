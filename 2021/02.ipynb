{
 "cells": [
  {
   "cell_type": "markdown",
   "id": "d98aa0ac-0f6f-4bdd-8311-f349bfeef693",
   "metadata": {},
   "source": [
    "Now, you need to figure out how to pilot this thing.\n",
    "\n",
    "It seems like the submarine can take a series of commands like forward 1, down 2, or up 3:\n",
    "\n",
    "- forward X increases the horizontal position by X units.\n",
    "- down X increases the depth by X units.\n",
    "- up X decreases the depth by X units.\n",
    "Note that since you're on a submarine, down and up affect your depth, and so they have the opposite result of what you might expect.\n",
    "\n",
    "The submarine seems to already have a planned course (your puzzle input). You should probably figure out where it's going. For example:\n",
    "\n",
    "    forward 5\n",
    "    down 5\n",
    "    forward 8\n",
    "    up 3\n",
    "    down 8\n",
    "    forward 2\n",
    "    \n",
    "Your horizontal position and depth both start at 0. The steps above would then modify them as follows:\n",
    "\n",
    "- forward 5 adds 5 to your horizontal position, a total of 5.\n",
    "- down 5 adds 5 to your depth, resulting in a value of 5.\n",
    "forward 8 adds 8 to your horizontal position, a total of 13.\n",
    "- up 3 decreases your depth by 3, resulting in a value of 2.\n",
    "down 8 adds 8 to your depth, resulting in a value of 10.\n",
    "- forward 2 adds 2 to your horizontal position, a total of 15.\n",
    "After following these instructions, you would have a horizontal position of 15 and a depth of 10. (Multiplying these together produces 150.)\n",
    "\n",
    "Calculate the horizontal position and depth you would have after following the planned course. What do you get if you multiply your final horizontal position by your final depth?"
   ]
  },
  {
   "cell_type": "code",
   "execution_count": 1,
   "id": "19d69b50-c90e-4d00-97f8-e3a6ef65a3dd",
   "metadata": {},
   "outputs": [],
   "source": [
    "test_input = [\n",
    "    'forward 5',\n",
    "'down 5',\n",
    "'forward 8',\n",
    "'up 3',\n",
    "'down 8',\n",
    "'forward 2',\n",
    "]"
   ]
  },
  {
   "cell_type": "code",
   "execution_count": 2,
   "id": "aaeba6d4-e1ad-4bd4-a8da-a7fb70290606",
   "metadata": {},
   "outputs": [],
   "source": [
    "def parse_input(input_str):\n",
    "    direction, distance = input_str.split()\n",
    "    distance = int(distance)\n",
    "    if direction == 'up': \n",
    "        return (distance * -1,0)\n",
    "    elif direction == 'down':\n",
    "        return (distance,0)\n",
    "    elif direction == 'forward':\n",
    "        return (0,distance)\n",
    "    "
   ]
  },
  {
   "cell_type": "code",
   "execution_count": 3,
   "id": "0841e3f8-4218-4b95-9175-b4ff374ff0e2",
   "metadata": {},
   "outputs": [],
   "source": [
    "def find_distance(instructions):\n",
    "    total_x, total_y = 0, 0\n",
    "    for i in instructions:\n",
    "        x, y = parse_input(i)\n",
    "        total_x += x\n",
    "        total_y += y\n",
    "    return total_x * total_y"
   ]
  },
  {
   "cell_type": "code",
   "execution_count": 4,
   "id": "acca197d-3a9e-48c6-84cb-3b7600b9df80",
   "metadata": {},
   "outputs": [],
   "source": [
    "assert find_distance(test_input) == 150"
   ]
  },
  {
   "cell_type": "code",
   "execution_count": 5,
   "id": "601417bc-165a-4536-be7a-aec093659554",
   "metadata": {},
   "outputs": [],
   "source": [
    "instrs = open('data/02.txt','r').readlines()"
   ]
  },
  {
   "cell_type": "code",
   "execution_count": 6,
   "id": "e958bf75-6b76-4aa6-9cf8-13c1b4cdf7a2",
   "metadata": {},
   "outputs": [
    {
     "data": {
      "text/plain": [
       "1694130"
      ]
     },
     "execution_count": 6,
     "metadata": {},
     "output_type": "execute_result"
    }
   ],
   "source": [
    "find_distance(instrs)"
   ]
  },
  {
   "cell_type": "markdown",
   "id": "0825498b-5036-4fa3-b11d-0009f155a872",
   "metadata": {},
   "source": [
    "Based on your calculations, the planned course doesn't seem to make any sense. You find the submarine manual and discover that the process is actually slightly more complicated.\n",
    "\n",
    "In addition to horizontal position and depth, you'll also need to track a third value, aim, which also starts at 0. The commands also mean something entirely different than you first thought:\n",
    "\n",
    "- down X increases your aim by X units.\n",
    "- up X decreases your aim by X units.\n",
    "- forward X does two things:\n",
    "- It increases your horizontal position by X units.\n",
    "- It increases your depth by your aim multiplied by X.\n",
    "Again note that since you're on a submarine, down and up do the opposite of what you might expect: \"down\" means aiming in the positive direction.\n",
    "\n",
    "Now, the above example does something different:\n",
    "\n",
    "- forward 5 adds 5 to your horizontal position, a total of 5. Because your aim is 0, your depth does not change.\n",
    "- down 5 adds 5 to your aim, resulting in a value of 5.\n",
    "- forward 8 adds 8 to your horizontal position, a total of 13. Because your aim is 5, your depth increases by 8*5=40.\n",
    "- up 3 decreases your aim by 3, resulting in a value of 2.\n",
    "- down 8 adds 8 to your aim, resulting in a value of 10.\n",
    "- forward 2 adds 2 to your horizontal position, a total of 15. Because your aim is 10, your depth increases by 2*10=20 to a total of 60.\n",
    "\n",
    "After following these new instructions, you would have a horizontal position of 15 and a depth of 60. (Multiplying these produces 900.)\n",
    "\n",
    "Using this new interpretation of the commands, calculate the horizontal position and depth you would have after following the planned course. What do you get if you multiply your final horizontal position by your final depth?"
   ]
  },
  {
   "cell_type": "code",
   "execution_count": 7,
   "id": "56ed477e-5387-455c-b91b-4b2a446b3154",
   "metadata": {},
   "outputs": [],
   "source": [
    "def find_distance_2(instructions):\n",
    "    total_x, total_y, aim = 0, 0, 0\n",
    "    for i in instructions:\n",
    "        x, y = parse_input(i)\n",
    "        total_y += y\n",
    "        total_x += (y * aim)\n",
    "        aim += x\n",
    "    return total_x * total_y"
   ]
  },
  {
   "cell_type": "code",
   "execution_count": 8,
   "id": "30a8a4fd-d8c8-4789-a6e5-6760e29e5c18",
   "metadata": {},
   "outputs": [],
   "source": [
    "assert find_distance_2(test_input) ==900"
   ]
  },
  {
   "cell_type": "code",
   "execution_count": 9,
   "id": "9c09b798-e041-4e0f-ab7c-c8cc04afe3a3",
   "metadata": {},
   "outputs": [
    {
     "data": {
      "text/plain": [
       "1698850445"
      ]
     },
     "execution_count": 9,
     "metadata": {},
     "output_type": "execute_result"
    }
   ],
   "source": [
    "find_distance_2(instrs)"
   ]
  },
  {
   "cell_type": "code",
   "execution_count": null,
   "id": "30e12eb9-832c-4293-b8dc-d708bc0d87a9",
   "metadata": {},
   "outputs": [],
   "source": []
  }
 ],
 "metadata": {
  "kernelspec": {
   "display_name": "Python 3",
   "language": "python",
   "name": "python3"
  },
  "language_info": {
   "codemirror_mode": {
    "name": "ipython",
    "version": 3
   },
   "file_extension": ".py",
   "mimetype": "text/x-python",
   "name": "python",
   "nbconvert_exporter": "python",
   "pygments_lexer": "ipython3",
   "version": "3.6.10"
  }
 },
 "nbformat": 4,
 "nbformat_minor": 5
}
