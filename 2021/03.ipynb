{
 "cells": [
  {
   "cell_type": "markdown",
   "id": "71e02be8-564a-4cfe-bdbc-296068a21315",
   "metadata": {},
   "source": [
    "--- Day 3: Binary Diagnostic ---\n",
    "The submarine has been making some odd creaking noises, so you ask it to produce a diagnostic report just in case.\n",
    "\n",
    "The diagnostic report (your puzzle input) consists of a list of binary numbers which, when decoded properly, can tell you many useful things about the conditions of the submarine. The first parameter to check is the power consumption.\n",
    "\n",
    "You need to use the binary numbers in the diagnostic report to generate two new binary numbers (called the gamma rate and the epsilon rate). The power consumption can then be found by multiplying the gamma rate by the epsilon rate.\n",
    "\n",
    "Each bit in the gamma rate can be determined by finding the most common bit in the corresponding position of all numbers in the diagnostic report. For example, given the following diagnostic report:\n",
    "\n",
    "    00100\n",
    "    11110\n",
    "    10110\n",
    "    10111\n",
    "    10101\n",
    "    01111\n",
    "    00111\n",
    "    11100\n",
    "    10000\n",
    "    11001\n",
    "    00010\n",
    "    01010\n",
    "    \n",
    "Considering only the first bit of each number, there are five 0 bits and seven 1 bits. Since the most common bit is 1, the first bit of the gamma rate is 1.\n",
    "\n",
    "The most common second bit of the numbers in the diagnostic report is 0, so the second bit of the gamma rate is 0.\n",
    "\n",
    "The most common value of the third, fourth, and fifth bits are 1, 1, and 0, respectively, and so the final three bits of the gamma rate are 110.\n",
    "\n",
    "So, the gamma rate is the binary number 10110, or 22 in decimal.\n",
    "\n",
    "The epsilon rate is calculated in a similar way; rather than use the most common bit, the least common bit from each position is used. So, the epsilon rate is 01001, or 9 in decimal. Multiplying the gamma rate (22) by the epsilon rate (9) produces the power consumption, 198.\n",
    "\n",
    "Use the binary numbers in your diagnostic report to calculate the gamma rate and epsilon rate, then multiply them together. What is the power consumption of the submarine? (Be sure to represent your answer in decimal, not binary.)\n",
    "\n",
    "To begin, get your puzzle input."
   ]
  },
  {
   "cell_type": "code",
   "execution_count": 1,
   "id": "e8f9f53a-0dcf-4971-9891-64fad1bc170a",
   "metadata": {},
   "outputs": [],
   "source": [
    "from copy import copy"
   ]
  },
  {
   "cell_type": "code",
   "execution_count": 2,
   "id": "cdd9bb24-12f9-4ba1-aab5-2e1114791728",
   "metadata": {},
   "outputs": [],
   "source": [
    "test = '''\n",
    "    00100\n",
    "    11110\n",
    "    10110\n",
    "    10111\n",
    "    10101\n",
    "    01111\n",
    "    00111\n",
    "    11100\n",
    "    10000\n",
    "    11001\n",
    "    00010\n",
    "    01010\n",
    "'''.split()"
   ]
  },
  {
   "cell_type": "code",
   "execution_count": 3,
   "id": "a4006226-e35d-4440-98f3-f81628119d50",
   "metadata": {},
   "outputs": [],
   "source": [
    "def find_most_common(numbers):\n",
    "    result = ''\n",
    "    for i in range(len(numbers[0])):\n",
    "        ones = sum([x[i] == '1' for x in numbers])\n",
    "        if (ones / len(numbers)) >= 0.5:\n",
    "            result += '1'\n",
    "        else:\n",
    "            result += '0'\n",
    "    return result"
   ]
  },
  {
   "cell_type": "code",
   "execution_count": 4,
   "id": "a723af5e-e1f0-468a-b3eb-1740d6f5fdd4",
   "metadata": {},
   "outputs": [],
   "source": [
    "most_common_t =find_most_common(test)"
   ]
  },
  {
   "cell_type": "code",
   "execution_count": 5,
   "id": "24785119-ce36-4c7b-8e19-05e638043531",
   "metadata": {},
   "outputs": [],
   "source": [
    "def find_gamma_epsilon(most_common):\n",
    "    gamma = int(most_common,2)\n",
    "    flip = {'1':'0', '0':'1'} \n",
    "    least_common = ''.join(flip[b] for b in most_common)\n",
    "    epsilon = int(least_common,2)\n",
    "    return gamma * epsilon"
   ]
  },
  {
   "cell_type": "code",
   "execution_count": 6,
   "id": "b26e34d5-d72d-4193-9451-1f1cef90298f",
   "metadata": {},
   "outputs": [],
   "source": [
    "assert find_gamma_epsilon(most_common_t) == 198"
   ]
  },
  {
   "cell_type": "code",
   "execution_count": 7,
   "id": "6ac3be28-327c-4112-837a-17aaf1df25da",
   "metadata": {},
   "outputs": [],
   "source": [
    "numbers = open('data/03.txt','r').read().split('\\n')[:-1]"
   ]
  },
  {
   "cell_type": "code",
   "execution_count": 8,
   "id": "91c631ed-ee60-4c52-837f-a46a6bf0ac10",
   "metadata": {},
   "outputs": [],
   "source": [
    "most_common =find_most_common(numbers)"
   ]
  },
  {
   "cell_type": "code",
   "execution_count": 9,
   "id": "8602b82a-c307-4a8d-971c-ae152c31bc1a",
   "metadata": {},
   "outputs": [
    {
     "data": {
      "text/plain": [
       "775304"
      ]
     },
     "execution_count": 9,
     "metadata": {},
     "output_type": "execute_result"
    }
   ],
   "source": [
    "find_gamma_epsilon(most_common)"
   ]
  },
  {
   "cell_type": "markdown",
   "id": "5e372e3b-e7b4-4b3b-8d20-3422c1c5db35",
   "metadata": {},
   "source": [
    "--- Part Two ---\n",
    "Next, you should verify the life support rating, which can be determined by multiplying the oxygen generator rating by the CO2 scrubber rating.\n",
    "\n",
    "Both the oxygen generator rating and the CO2 scrubber rating are values that can be found in your diagnostic report - finding them is the tricky part. Both values are located using a similar process that involves filtering out values until only one remains. Before searching for either rating value, start with the full list of binary numbers from your diagnostic report and consider just the first bit of those numbers. Then:\n",
    "\n",
    "Keep only numbers selected by the bit criteria for the type of rating value for which you are searching. Discard numbers which do not match the bit criteria.\n",
    "If you only have one number left, stop; this is the rating value for which you are searching.\n",
    "Otherwise, repeat the process, considering the next bit to the right.\n",
    "The bit criteria depends on which type of rating value you want to find:\n",
    "\n",
    "To find oxygen generator rating, determine the most common value (0 or 1) in the current bit position, and keep only numbers with that bit in that position. If 0 and 1 are equally common, keep values with a 1 in the position being considered.\n",
    "To find CO2 scrubber rating, determine the least common value (0 or 1) in the current bit position, and keep only numbers with that bit in that position. If 0 and 1 are equally common, keep values with a 0 in the position being considered.\n",
    "For example, to determine the oxygen generator rating value using the same example diagnostic report from above:\n",
    "\n",
    "Start with all 12 numbers and consider only the first bit of each number. \n",
    "- There are more 1 bits (7) than 0 bits (5), so keep only the 7 numbers with a 1 in the first position: 11110, 10110, 10111, 10101, 11100, 10000, and 11001.\n",
    "- Then, consider the second bit of the 7 remaining numbers: there are more 0 bits (4) than 1 bits (3), so keep only the 4 numbers with a 0 in the second position: 10110, 10111, 10101, and 10000.\n",
    "- In the third position, three of the four numbers have a 1, so keep those three: 10110, 10111, and 10101.\n",
    "= In the fourth position, two of the three numbers have a 1, so keep those two: 10110 and 10111.\n",
    "= In the fifth position, there are an equal number of 0 bits and 1 bits (one each). So, to find the oxygen generator rating, keep the number with a 1 in that position: 10111.\n",
    "- As there is only one number left, stop; the oxygen generator rating is 10111, or 23 in decimal.\n",
    "Then, to determine the CO2 scrubber rating value from the same example above:\n",
    "\n",
    "Start again with all 12 numbers and consider only the first bit of each number. \n",
    "- There are fewer 0 bits (5) than 1 bits (7), so keep only the 5 numbers with a 0 in the first position: 00100, 01111, 00111, 00010, and 01010.\n",
    "- Then, consider the second bit of the 5 remaining numbers: there are fewer 1 bits (2) than 0 bits (3), so keep only the 2 numbers with a 1 in the second position: 01111 and 01010.\n",
    "- In the third position, there are an equal number of 0 bits and 1 bits (one each). So, to find the CO2 scrubber rating, keep the number with a 0 in that position: 01010.\n",
    "= As there is only one number left, stop; the CO2 scrubber rating is 01010, or 10 in decimal.\n",
    "= Finally, to find the life support rating, multiply the oxygen generator rating (23) by the CO2 scrubber rating (10) to get 230.\n",
    "\n",
    "Use the binary numbers in your diagnostic report to calculate the oxygen generator rating and CO2 scrubber rating, then multiply them together. What is the life support rating of the submarine? (Be sure to represent your answer in decimal, not binary.)\n",
    "\n"
   ]
  },
  {
   "cell_type": "code",
   "execution_count": 10,
   "id": "bf22203b-21b7-42ce-8a54-179b018bb73f",
   "metadata": {},
   "outputs": [],
   "source": [
    "def find_part_2(numbers, comparison = '>=' ):\n",
    "    _numbers = copy(numbers)\n",
    "    result = ''\n",
    "    i = 0\n",
    "    while len(_numbers) > 1:\n",
    "        ones = sum([x[i] == '1' for x in _numbers])\n",
    "        if eval('(ones / len(_numbers)) ' + comparison +' 0.5'):\n",
    "            result_add = '1'\n",
    "        else:\n",
    "            result_add = '0'\n",
    "\n",
    "        _numbers = [n for n in _numbers if n[i] == result_add]\n",
    "        result += result_add\n",
    "        i+= 1\n",
    "    result += _numbers[0][i:len(_numbers[0])]\n",
    "    return result"
   ]
  },
  {
   "cell_type": "code",
   "execution_count": 11,
   "id": "2a734ea6-f9e7-4268-9714-63cb647c1cb5",
   "metadata": {},
   "outputs": [],
   "source": [
    "o2_test = find_part_2(test)\n",
    "co2_test = find_part_2(test, '<')"
   ]
  },
  {
   "cell_type": "code",
   "execution_count": 12,
   "id": "a78b9ee3-75dd-4862-946e-74fc7aae20ce",
   "metadata": {},
   "outputs": [],
   "source": [
    "assert o2_test == '10111' \n",
    "assert co2_test == '01010'"
   ]
  },
  {
   "cell_type": "code",
   "execution_count": 13,
   "id": "65171cc9-67ff-4a58-a853-57dbd92a7060",
   "metadata": {},
   "outputs": [],
   "source": [
    "assert int(o2_test,2) * int(co2_test,2) == 230"
   ]
  },
  {
   "cell_type": "code",
   "execution_count": 14,
   "id": "7e7609d6-f194-4976-a5c4-d1d7730acffd",
   "metadata": {},
   "outputs": [],
   "source": [
    "o2 = find_part_2(numbers)\n",
    "co2 = find_part_2(numbers,'<')"
   ]
  },
  {
   "cell_type": "code",
   "execution_count": 15,
   "id": "3385cbd2-6be8-43d8-b8df-66c1e37e9514",
   "metadata": {},
   "outputs": [
    {
     "data": {
      "text/plain": [
       "1370737"
      ]
     },
     "execution_count": 15,
     "metadata": {},
     "output_type": "execute_result"
    }
   ],
   "source": [
    "int(o2,2) * int(co2,2)"
   ]
  },
  {
   "cell_type": "code",
   "execution_count": null,
   "id": "b8e5a61e-4bd4-4e89-8109-6b669a6b59ec",
   "metadata": {},
   "outputs": [],
   "source": []
  }
 ],
 "metadata": {
  "kernelspec": {
   "display_name": "Python 3",
   "language": "python",
   "name": "python3"
  },
  "language_info": {
   "codemirror_mode": {
    "name": "ipython",
    "version": 3
   },
   "file_extension": ".py",
   "mimetype": "text/x-python",
   "name": "python",
   "nbconvert_exporter": "python",
   "pygments_lexer": "ipython3",
   "version": "3.6.10"
  }
 },
 "nbformat": 4,
 "nbformat_minor": 5
}
