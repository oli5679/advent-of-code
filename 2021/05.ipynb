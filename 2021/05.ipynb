{
 "cells": [
  {
   "cell_type": "markdown",
   "id": "de343931-7681-4950-b99e-2494b346cc44",
   "metadata": {},
   "source": [
    "--- Day 5: Hydrothermal Venture ---\n",
    "You come across a field of hydrothermal vents on the ocean floor! These vents constantly produce large, opaque clouds, so it would be best to avoid them if possible.\n",
    "\n",
    "They tend to form in lines; the submarine helpfully produces a list of nearby lines of vents (your puzzle input) for you to review. For example:\n",
    "\n",
    "    0,9 -> 5,9\n",
    "    8,0 -> 0,8\n",
    "    9,4 -> 3,4\n",
    "    2,2 -> 2,1\n",
    "    7,0 -> 7,4\n",
    "    6,4 -> 2,0\n",
    "    0,9 -> 2,9\n",
    "    3,4 -> 1,4\n",
    "    0,0 -> 8,8\n",
    "    5,5 -> 8,2\n",
    "    \n",
    "Each line of vents is given as a line segment in the format x1,y1 -> x2,y2 where x1,y1 are the coordinates of one end the line segment and x2,y2 are the coordinates of the other end. These line segments include the points at both ends. In other words:\n",
    "\n",
    "An entry like 1,1 -> 1,3 covers points 1,1, 1,2, and 1,3.\n",
    "An entry like 9,7 -> 7,7 covers points 9,7, 8,7, and 7,7.\n",
    "For now, only consider horizontal and vertical lines: lines where either x1 = x2 or y1 = y2.\n",
    "\n",
    "So, the horizontal and vertical lines from the above list would produce the following diagram:\n",
    "\n",
    "    .......1..\n",
    "    ..1....1..\n",
    "    ..1....1..\n",
    "    .......1..\n",
    "    .112111211\n",
    "    ..........\n",
    "    ..........\n",
    "    ..........\n",
    "    ..........\n",
    "    222111....\n",
    "    \n",
    "In this diagram, the top left corner is 0,0 and the bottom right corner is 9,9. Each position is shown as the number of lines which cover that point or . if no line covers that point. The top-left pair of 1s, for example, comes from 2,2 -> 2,1; the very bottom row is formed by the overlapping lines 0,9 -> 5,9 and 0,9 -> 2,9.\n",
    "\n",
    "To avoid the most dangerous areas, you need to determine the number of points where at least two lines overlap. In the above example, this is anywhere in the diagram with a 2 or larger - a total of 5 points.\n",
    "\n",
    "Consider only horizontal and vertical lines. At how many points do at least two lines overlap?\n",
    "\n"
   ]
  },
  {
   "cell_type": "code",
   "execution_count": 1,
   "id": "34a49ba9-849e-489b-a431-9120b16086c2",
   "metadata": {},
   "outputs": [],
   "source": [
    "import numpy as np"
   ]
  },
  {
   "cell_type": "code",
   "execution_count": 2,
   "id": "a9167a6b-644b-4c19-90f9-b0604f32765a",
   "metadata": {},
   "outputs": [],
   "source": [
    "test_input = '''0,9 -> 5,9\n",
    "8,0 -> 0,8\n",
    "9,4 -> 3,4\n",
    "2,2 -> 2,1\n",
    "7,0 -> 7,4\n",
    "6,4 -> 2,0\n",
    "0,9 -> 2,9\n",
    "3,4 -> 1,4\n",
    "0,0 -> 8,8\n",
    "5,5 -> 8,2'''"
   ]
  },
  {
   "cell_type": "code",
   "execution_count": 40,
   "id": "f81ad65c-c33d-4500-b0d8-236dd09ee5d0",
   "metadata": {},
   "outputs": [],
   "source": [
    "def parse_text(input_):\n",
    "    return [[[int(v) for v in cell.split(',')] \n",
    "      for cell in  row.split(' -> ') ] \n",
    "     for row in input_.split('\\n')]"
   ]
  },
  {
   "cell_type": "code",
   "execution_count": 41,
   "id": "978c6877-fdcd-4c03-9309-3f000732fd2e",
   "metadata": {},
   "outputs": [],
   "source": [
    "test_input_vals = parse_text(test_input)\n"
   ]
  },
  {
   "cell_type": "code",
   "execution_count": 50,
   "id": "b7ff77cf-53fa-483d-8939-ac036cb2fc34",
   "metadata": {},
   "outputs": [
    {
     "data": {
      "text/plain": [
       "9"
      ]
     },
     "execution_count": 50,
     "metadata": {},
     "output_type": "execute_result"
    }
   ],
   "source": []
  },
  {
   "cell_type": "code",
   "execution_count": 106,
   "id": "b343569e-92b0-4f50-b0e3-6578fb14e2c0",
   "metadata": {},
   "outputs": [],
   "source": [
    "def get_overlaps(input_vals, diag=False):\n",
    "    array_size = np.array(input_vals).max() + 1\n",
    "    totals = np.zeros((array_size,array_size))\n",
    "    for s, e in input_vals:\n",
    "        if s[0] == e[0]:\n",
    "            first = min(s[1],e[1])\n",
    "            second = max(s[1],e[1]) + 1\n",
    "            totals[s[0],first:second] += 1\n",
    "        if s[1] == e[1]:\n",
    "            first = min(s[0],e[0])\n",
    "            second = max(s[0],e[0]) + 1\n",
    "            totals[first:second,s[1]] += 1\n",
    "        if diag:\n",
    "            if abs(s[0] - e[0]) == abs(s[1] - e[1]):\n",
    "                _x, _y = s\n",
    "                if s[0] > e[0]:\n",
    "                    jump_x = -1\n",
    "                else:\n",
    "                    jump_x = 1\n",
    "                if s[1] > e[1]:\n",
    "                    jump_y = -1\n",
    "                else:\n",
    "                    jump_y = 1\n",
    "                x_old = None\n",
    "                while x_old != e[0]:\n",
    "                    totals[_x,_y] += 1\n",
    "                    x_old = _x\n",
    "                    _x += jump_x\n",
    "                    _y += jump_y\n",
    "    return (totals > 1).sum()"
   ]
  },
  {
   "cell_type": "code",
   "execution_count": 107,
   "id": "2c97ff4e-ec1f-45bd-bb0a-ebc801ad6d25",
   "metadata": {},
   "outputs": [
    {
     "name": "stdout",
     "output_type": "stream",
     "text": [
      "[[0. 0. 0. 0. 0. 0. 0. 1. 0. 0.]\n",
      " [0. 0. 1. 0. 0. 0. 0. 1. 0. 0.]\n",
      " [0. 0. 1. 0. 0. 0. 0. 1. 0. 0.]\n",
      " [0. 0. 0. 0. 0. 0. 0. 1. 0. 0.]\n",
      " [0. 1. 1. 2. 1. 1. 1. 2. 1. 1.]\n",
      " [0. 0. 0. 0. 0. 0. 0. 0. 0. 0.]\n",
      " [0. 0. 0. 0. 0. 0. 0. 0. 0. 0.]\n",
      " [0. 0. 0. 0. 0. 0. 0. 0. 0. 0.]\n",
      " [0. 0. 0. 0. 0. 0. 0. 0. 0. 0.]\n",
      " [2. 2. 2. 1. 1. 1. 0. 0. 0. 0.]]\n"
     ]
    }
   ],
   "source": [
    "assert get_overlaps(test_input_vals) == 5"
   ]
  },
  {
   "cell_type": "code",
   "execution_count": 108,
   "id": "cf2831db-0593-4b3b-aab5-f3b15db974fd",
   "metadata": {},
   "outputs": [],
   "source": [
    "input_data = open('data/05.txt').read()"
   ]
  },
  {
   "cell_type": "code",
   "execution_count": 109,
   "id": "9d69fafd-cdfb-433c-b500-47062061dcd9",
   "metadata": {},
   "outputs": [],
   "source": [
    "input_vals = parse_text(input_data[:-1])"
   ]
  },
  {
   "cell_type": "code",
   "execution_count": 110,
   "id": "2177e55f-9f40-4e75-978f-81e9a3320b89",
   "metadata": {},
   "outputs": [
    {
     "name": "stdout",
     "output_type": "stream",
     "text": [
      "[[0. 0. 0. ... 0. 0. 0.]\n",
      " [0. 0. 0. ... 0. 0. 0.]\n",
      " [0. 0. 0. ... 0. 0. 0.]\n",
      " ...\n",
      " [0. 0. 0. ... 0. 0. 0.]\n",
      " [0. 0. 0. ... 0. 0. 0.]\n",
      " [0. 0. 0. ... 0. 0. 0.]]\n"
     ]
    },
    {
     "data": {
      "text/plain": [
       "6461"
      ]
     },
     "execution_count": 110,
     "metadata": {},
     "output_type": "execute_result"
    }
   ],
   "source": [
    "get_overlaps(input_vals)"
   ]
  },
  {
   "cell_type": "markdown",
   "id": "43f4367d-035e-456e-a7d4-a969aeb064ef",
   "metadata": {},
   "source": [
    "--- Part Two ---\n",
    "Unfortunately, considering only horizontal and vertical lines doesn't give you the full picture; you need to also consider diagonal lines.\n",
    "\n",
    "Because of the limits of the hydrothermal vent mapping system, the lines in your list will only ever be horizontal, vertical, or a diagonal line at exactly 45 degrees. In other words:\n",
    "\n",
    "An entry like 1,1 -> 3,3 covers points 1,1, 2,2, and 3,3.\n",
    "An entry like 9,7 -> 7,9 covers points 9,7, 8,8, and 7,9.\n",
    "Considering all lines from the above example would now produce the following diagram:\n",
    "\n",
    "1.1....11.\n",
    ".111...2..\n",
    "..2.1.111.\n",
    "...1.2.2..\n",
    ".112313211\n",
    "...1.2....\n",
    "..1...1...\n",
    ".1.....1..\n",
    "1.......1.\n",
    "222111....\n",
    "You still need to determine the number of points where at least two lines overlap. In the above example, this is still anywhere in the diagram with a 2 or larger - now a total of 12 points.\n",
    "\n",
    "Consider all of the lines. At how many points do at least two lines overlap?"
   ]
  },
  {
   "cell_type": "code",
   "execution_count": 111,
   "id": "d48fbb58-4fcb-4fc5-bf23-ece42c9b64d9",
   "metadata": {},
   "outputs": [
    {
     "name": "stdout",
     "output_type": "stream",
     "text": [
      "[[1. 0. 1. 0. 0. 0. 0. 1. 1. 0.]\n",
      " [0. 1. 1. 1. 0. 0. 0. 2. 0. 0.]\n",
      " [0. 0. 2. 0. 1. 0. 1. 1. 1. 0.]\n",
      " [0. 0. 0. 1. 0. 2. 0. 2. 0. 0.]\n",
      " [0. 1. 1. 2. 3. 1. 3. 2. 1. 1.]\n",
      " [0. 0. 0. 1. 0. 2. 0. 0. 0. 0.]\n",
      " [0. 0. 1. 0. 0. 0. 1. 0. 0. 0.]\n",
      " [0. 1. 0. 0. 0. 0. 0. 1. 0. 0.]\n",
      " [1. 0. 0. 0. 0. 0. 0. 0. 1. 0.]\n",
      " [2. 2. 2. 1. 1. 1. 0. 0. 0. 0.]]\n"
     ]
    }
   ],
   "source": [
    "assert get_overlaps(test_input_vals,diag=True) == 12"
   ]
  },
  {
   "cell_type": "code",
   "execution_count": 95,
   "id": "0ffcc76a-4cf4-41ef-8523-033f5a75bf45",
   "metadata": {},
   "outputs": [
    {
     "name": "stdout",
     "output_type": "stream",
     "text": [
      "[[0. 0. 0. ... 0. 0. 0.]\n",
      " [0. 0. 0. ... 0. 0. 0.]\n",
      " [0. 0. 0. ... 0. 0. 0.]\n",
      " ...\n",
      " [0. 0. 0. ... 0. 0. 0.]\n",
      " [0. 0. 0. ... 0. 0. 0.]\n",
      " [0. 0. 0. ... 0. 0. 0.]]\n"
     ]
    },
    {
     "data": {
      "text/plain": [
       "18045"
      ]
     },
     "execution_count": 95,
     "metadata": {},
     "output_type": "execute_result"
    }
   ],
   "source": [
    "get_overlaps(input_vals,diag=True)"
   ]
  },
  {
   "cell_type": "code",
   "execution_count": null,
   "id": "d918806a-f718-4891-878f-16ace4b04e16",
   "metadata": {},
   "outputs": [],
   "source": []
  }
 ],
 "metadata": {
  "kernelspec": {
   "display_name": "Python 3",
   "language": "python",
   "name": "python3"
  },
  "language_info": {
   "codemirror_mode": {
    "name": "ipython",
    "version": 3
   },
   "file_extension": ".py",
   "mimetype": "text/x-python",
   "name": "python",
   "nbconvert_exporter": "python",
   "pygments_lexer": "ipython3",
   "version": "3.6.10"
  }
 },
 "nbformat": 4,
 "nbformat_minor": 5
}
