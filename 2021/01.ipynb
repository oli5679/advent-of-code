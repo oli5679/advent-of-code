{
 "cells": [
  {
   "cell_type": "markdown",
   "id": "21138980-70e4-4170-8493-33ee6ac424da",
   "metadata": {},
   "source": [
    "As the submarine drops below the surface of the ocean, it automatically performs a sonar sweep of the nearby sea floor. On a small screen, the sonar sweep report (your puzzle input) appears: each line is a measurement of the sea floor depth as the sweep looks further and further away from the submarine.\n",
    "\n",
    "For example, suppose you had the following report:\n",
    "\n",
    "    199\n",
    "    200\n",
    "    208\n",
    "    210\n",
    "    200\n",
    "    207\n",
    "    240\n",
    "    269\n",
    "    260\n",
    "    263\n",
    "\n",
    "This report indicates that, scanning outward from the submarine, the sonar sweep found depths of 199, 200, 208, 210, and so on.\n",
    "\n",
    "The first order of business is to figure out how quickly the depth increases, just so you know what you're dealing with - you never know if the keys will get carried into deeper water by an ocean current or a fish or something.\n",
    "\n",
    "To do this, count the number of times a depth measurement increases from the previous measurement. (There is no measurement before the first measurement.) In the example above, the changes are as follows:\n",
    "\n",
    "    199 (N/A - no previous measurement)\n",
    "    200 (increased)\n",
    "    208 (increased)\n",
    "    210 (increased)\n",
    "    200 (decreased)\n",
    "    207 (increased)\n",
    "    240 (increased)\n",
    "    269 (increased)\n",
    "    260 (decreased)\n",
    "    263 (increased)\n",
    "    \n",
    "In this example, there are 7 measurements that are larger than the previous measurement.\n",
    "\n",
    "How many measurements are larger than the previous measurement?\n",
    "\n"
   ]
  },
  {
   "cell_type": "code",
   "execution_count": null,
   "id": "5542556b-7596-4c4e-aef7-71ec12bfeeef",
   "metadata": {},
   "outputs": [],
   "source": [
    "example = [199, 200, 208, 210, 200, 207, 240, 269, 260, 263]"
   ]
  },
  {
   "cell_type": "code",
   "execution_count": null,
   "id": "09797684-2a8a-4fd1-9f8e-bad91d83d45a",
   "metadata": {
    "tags": []
   },
   "outputs": [],
   "source": [
    "def count_increases(depths):\n",
    "    changes = zip(depths[:-1],depths[1:])\n",
    "    return len([x for x in changes if x[1] > x[0]])"
   ]
  },
  {
   "cell_type": "code",
   "execution_count": null,
   "id": "6ee798c6-68e8-4382-9235-bde425006720",
   "metadata": {},
   "outputs": [],
   "source": [
    "assert count_increases(example) == 7"
   ]
  },
  {
   "cell_type": "code",
   "execution_count": null,
   "id": "d73475f9-ef22-4f7f-8eed-62c09105972d",
   "metadata": {},
   "outputs": [],
   "source": [
    "depths = [int(x) for x in open('data/01.txt','r').readlines()]"
   ]
  },
  {
   "cell_type": "code",
   "execution_count": null,
   "id": "5a47cbba-add9-4bba-8841-fa14c49dadac",
   "metadata": {},
   "outputs": [
    {
     "data": {
      "text/plain": [
       "1301"
      ]
     },
     "execution_count": 5,
     "metadata": {},
     "output_type": "execute_result"
    }
   ],
   "source": [
    "count_increases(depths)"
   ]
  },
  {
   "cell_type": "markdown",
   "id": "ebcd6237-e130-48da-8b13-beb8bacb72c9",
   "metadata": {},
   "source": [
    "Considering every single measurement isn't as useful as you expected: there's just too much noise in the data.\n",
    "\n",
    "Instead, consider sums of a three-measurement sliding window. Again considering the above example:\n",
    "\n",
    "    199  A      \n",
    "    200  A B    \n",
    "    208  A B C  \n",
    "    210    B C D\n",
    "    200  E   C D\n",
    "    207  E F   D\n",
    "    240  E F G  \n",
    "    269    F G H\n",
    "    260      G H\n",
    "    263        H\n",
    "\n",
    "\n",
    "Start by comparing the first and second three-measurement windows. The measurements in the first window are marked A (199, 200, 208); their sum is 199 + 200 + 208 = 607. The second window is marked B (200, 208, 210); its sum is 618. The sum of measurements in the second window is larger than the sum of the first, so this first comparison increased.\n",
    "\n",
    "Your goal now is to count the number of times the sum of measurements in this sliding window increases from the previous sum. So, compare A with B, then compare B with C, then C with D, and so on. Stop when there aren't enough measurements left to create a new three-measurement sum.\n",
    "\n",
    "In the above example, the sum of each three-measurement window is as follows:\n",
    "\n",
    "    A: 607 (N/A - no previous sum)\n",
    "    B: 618 (increased)\n",
    "    C: 618 (no change)\n",
    "    D: 617 (decreased)\n",
    "    E: 647 (increased)\n",
    "    F: 716 (increased)\n",
    "    G: 769 (increased)\n",
    "    H: 792 (increased)\n",
    "\n",
    "In this example, there are 5 sums that are larger than the previous sum."
   ]
  },
  {
   "cell_type": "code",
   "execution_count": 7,
   "id": "9efb687f-aa78-438d-ac87-e988f5223ba1",
   "metadata": {},
   "outputs": [],
   "source": [
    "def window_sum(depths,window=3):\n",
    "    return [sum(depths[i:i+window]) for i in range(len(depths)-window+1)]"
   ]
  },
  {
   "cell_type": "code",
   "execution_count": 8,
   "id": "6d97ed0d-624b-42b3-be32-c65cbf1d999b",
   "metadata": {},
   "outputs": [],
   "source": [
    "assert count_increases(window_sum(example)) == 5"
   ]
  },
  {
   "cell_type": "code",
   "execution_count": 9,
   "id": "070fe756-628c-42ae-a17a-22a411e1cb28",
   "metadata": {},
   "outputs": [
    {
     "data": {
      "text/plain": [
       "1346"
      ]
     },
     "execution_count": 9,
     "metadata": {},
     "output_type": "execute_result"
    }
   ],
   "source": [
    "count_increases(window_sum(depths)) "
   ]
  }
 ],
 "metadata": {
  "kernelspec": {
   "display_name": "Python 3",
   "language": "python",
   "name": "python3"
  },
  "language_info": {
   "codemirror_mode": {
    "name": "ipython",
    "version": 3
   },
   "file_extension": ".py",
   "mimetype": "text/x-python",
   "name": "python",
   "nbconvert_exporter": "python",
   "pygments_lexer": "ipython3",
   "version": "3.6.10"
  }
 },
 "nbformat": 4,
 "nbformat_minor": 5
}
