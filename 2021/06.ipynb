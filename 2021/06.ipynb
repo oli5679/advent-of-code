{
 "cells": [
  {
   "cell_type": "markdown",
   "id": "9677b2a1-a619-4e4c-8e81-7daf2fd6832a",
   "metadata": {},
   "source": [
    "--- Day 6: Lanternfish ---\n",
    "The sea floor is getting steeper. Maybe the sleigh keys got carried this way?\n",
    "\n",
    "A massive school of glowing lanternfish swims past. They must spawn quickly to reach such large numbers - maybe exponentially quickly? You should model their growth rate to be sure.\n",
    "\n",
    "Although you know nothing about this specific species of lanternfish, you make some guesses about their attributes. Surely, each lanternfish creates a new lanternfish once every 7 days.\n",
    "\n",
    "However, this process isn't necessarily synchronized between every lanternfish - one lanternfish might have 2 days left until it creates another lanternfish, while another might have 4. So, you can model each fish as a single number that represents the number of days until it creates a new lanternfish.\n",
    "\n",
    "Furthermore, you reason, a new lanternfish would surely need slightly longer before it's capable of producing more lanternfish: two more days for its first cycle.\n",
    "\n",
    "So, suppose you have a lanternfish with an internal timer value of 3:\n",
    "\n",
    "    After one day, its internal timer would become 2.\n",
    "    After another day, its internal timer would become 1.\n",
    "    After another day, its internal timer would become 0.\n",
    "    After another day, its internal timer would reset to 6, and it would create a new lanternfish with an internal timer of 8.\n",
    "    After another day, the first lanternfish would have an internal timer of 5, and the second lanternfish would have an internal timer of 7.\n",
    "    A lanternfish that creates a new fish resets its timer to 6, not 7 (because 0 is included as a valid timer value). The new lanternfish starts with an internal timer of 8 and does not start counting down until the next day.\n",
    "\n",
    "Realizing what you're trying to do, the submarine automatically produces a list of the ages of several hundred nearby lanternfish (your puzzle input). For example, suppose you were given the following list:\n",
    "\n",
    "3,4,3,1,2\n",
    "This list means that the first fish has an internal timer of 3, the second fish has an internal timer of 4, and so on until the fifth fish, which has an internal timer of 2. Simulating these fish over several days would proceed as follows:\n",
    "\n",
    "    Initial state: 3,4,3,1,2\n",
    "    After  1 day:  2,3,2,0,1\n",
    "    After  2 days: 1,2,1,6,0,8\n",
    "    After  3 days: 0,1,0,5,6,7,8\n",
    "    After  4 days: 6,0,6,4,5,6,7,8,8\n",
    "    After  5 days: 5,6,5,3,4,5,6,7,7,8\n",
    "    After  6 days: 4,5,4,2,3,4,5,6,6,7\n",
    "    After  7 days: 3,4,3,1,2,3,4,5,5,6\n",
    "    After  8 days: 2,3,2,0,1,2,3,4,4,5\n",
    "    After  9 days: 1,2,1,6,0,1,2,3,3,4,8\n",
    "    After 10 days: 0,1,0,5,6,0,1,2,2,3,7,8\n",
    "    After 11 days: 6,0,6,4,5,6,0,1,1,2,6,7,8,8,8\n",
    "    After 12 days: 5,6,5,3,4,5,6,0,0,1,5,6,7,7,7,8,8\n",
    "    After 13 days: 4,5,4,2,3,4,5,6,6,0,4,5,6,6,6,7,7,8,8\n",
    "    After 14 days: 3,4,3,1,2,3,4,5,5,6,3,4,5,5,5,6,6,7,7,8\n",
    "    After 15 days: 2,3,2,0,1,2,3,4,4,5,2,3,4,4,4,5,5,6,6,7\n",
    "    After 16 days: 1,2,1,6,0,1,2,3,3,4,1,2,3,3,3,4,4,5,5,6,8\n",
    "    After 17 days: 0,1,0,5,6,0,1,2,2,3,0,1,2,2,2,3,3,4,4,5,7,8\n",
    "    After 18 days: 6,0,6,4,5,6,0,1,1,2,6,0,1,1,1,2,2,3,3,4,6,7,8,8,8,8\n",
    "\n",
    "Each day, a 0 becomes a 6 and adds a new 8 to the end of the list, while each other number decreases by 1 if it was present at the start of the day.\n",
    "\n",
    "In this example, after 18 days, there are a total of 26 fish. After 80 days, there would be a total of 5934.\n",
    "\n",
    "Find a way to simulate lanternfish. How many lanternfish would there be after 80 days?"
   ]
  },
  {
   "cell_type": "code",
   "execution_count": 1,
   "id": "6f3fb6a6-e03e-44a4-b31e-72a521fb9a55",
   "metadata": {},
   "outputs": [],
   "source": [
    "from functools import lru_cache\n",
    "import numpy as np\n",
    "from collections import Counter\n",
    "import pandas as pd"
   ]
  },
  {
   "cell_type": "code",
   "execution_count": 2,
   "id": "f157a164-690e-409c-a4d4-47ef1bf6fd91",
   "metadata": {},
   "outputs": [],
   "source": [
    "test_input = [3,4,3,1,2]"
   ]
  },
  {
   "cell_type": "code",
   "execution_count": 3,
   "id": "d871cb98-eee5-4c7a-b28e-fcd2bdbdc7a3",
   "metadata": {},
   "outputs": [],
   "source": [
    "mapping = {x:x-1 for x in range(1,9)}\n",
    "mapping[0] = 6"
   ]
  },
  {
   "cell_type": "code",
   "execution_count": 4,
   "id": "cc81c045-5ed8-4cca-85cc-0263718a0881",
   "metadata": {},
   "outputs": [],
   "source": [
    "def step(vals, n=1):\n",
    "    for _ in range(n):\n",
    "        vals = [mapping[x] for x in vals] + [8 for x in vals if x == 0]\n",
    "    return vals"
   ]
  },
  {
   "cell_type": "code",
   "execution_count": 5,
   "id": "01288802-ee28-457e-ad30-6424649fa43a",
   "metadata": {},
   "outputs": [],
   "source": [
    "assert len(step(test_input,80)) == 5934"
   ]
  },
  {
   "cell_type": "code",
   "execution_count": 6,
   "id": "49d9b37d-f87e-4086-b30d-93190d00ca5b",
   "metadata": {},
   "outputs": [],
   "source": [
    "puz_input = [\n",
    "    3,5,4,1,2,1,5,5,1,1,1,1,4,1,4,5,4,5,1,3,1,1,1,4,1,1,3,1,1,5,3,1,1,3,1,3,1,1,1,4,1,2,5,3,1,4,2,3,1,1,2,1,1,1,4,1,1,1,1,2,1,1,1,3,1,1,4,1,4,1,5,1,4,2,1,1,5,4,4,4,1,4,1,1,1,1,3,1,5,1,4,5,3,1,4,1,5,2,2,5,1,3,2,2,5,4,2,3,4,1,2,1,1,2,1,1,5,4,1,1,1,1,3,1,5,4,1,5,1,1,4,3,4,3,1,5,1,1,2,1,1,5,3,1,1,1,1,1,5,1,1,1,1,1,1,1,2,2,5,5,1,2,1,2,1,1,5,1,3,1,5,2,1,4,1,5,3,1,1,1,2,1,3,1,4,4,1,1,5,1,1,4,1,4,2,3,5,2,5,1,3,1,2,1,4,1,1,1,1,2,1,4,1,3,4,1,1,1,1,1,1,1,2,1,5,1,1,1,1,2,3,1,1,2,3,1,1,3,1,1,3,1,3,1,3,3,1,1,2,1,3,2,3,1,1,3,5,1,1,5,5,1,2,1,2,2,1,1,1,5,3,1,1,3,5,1,3,1,5,3,4,2,3,2,1,3,1,1,3,4,2,1,1,3,1,1,1,1,1,1\n",
    "]"
   ]
  },
  {
   "cell_type": "code",
   "execution_count": 7,
   "id": "5be353a2-faef-4600-bd7f-5e9e67c5c8ba",
   "metadata": {},
   "outputs": [
    {
     "data": {
      "text/plain": [
       "374927"
      ]
     },
     "execution_count": 7,
     "metadata": {},
     "output_type": "execute_result"
    }
   ],
   "source": [
    "len(step(puz_input,80))"
   ]
  },
  {
   "cell_type": "code",
   "execution_count": 8,
   "id": "951a8b7c-3a6a-43cf-b13d-c261bdb4b0f3",
   "metadata": {},
   "outputs": [],
   "source": [
    "@lru_cache()\n",
    "def recursive_solve(state, time_left):\n",
    "    if time_left == 0:\n",
    "        return 1\n",
    "    elif state != 0:\n",
    "        return recursive_solve(state-1, time_left-1)\n",
    "    else:\n",
    "        return recursive_solve(6, time_left-1) + recursive_solve(8, time_left-1)"
   ]
  },
  {
   "cell_type": "code",
   "execution_count": 10,
   "id": "e9ddd0d7-3f2b-4ace-882e-b68ab488a3dd",
   "metadata": {},
   "outputs": [],
   "source": [
    "assert sum([recursive_solve(x, 256) for x in test_input]) == 26984457539"
   ]
  },
  {
   "cell_type": "code",
   "execution_count": 11,
   "id": "99e06631-0026-4744-a02c-a08884cfb325",
   "metadata": {},
   "outputs": [
    {
     "data": {
      "text/plain": [
       "1687617803407"
      ]
     },
     "execution_count": 11,
     "metadata": {},
     "output_type": "execute_result"
    }
   ],
   "source": [
    "sum([recursive_solve(x, 256) for x in puz_input])"
   ]
  },
  {
   "cell_type": "code",
   "execution_count": 16,
   "id": "32ba33e2-ebe3-4d46-b73a-cf10c5121d5c",
   "metadata": {},
   "outputs": [],
   "source": [
    "def matrix_solve(start_state,n):\n",
    "    counts = np.zeros(9)\n",
    "    for v in start_state:\n",
    "        counts[v] += 1\n",
    "    transformation= np.zeros((9,9))\n",
    "    for i in range(1,9):\n",
    "        transformation[i,i-1] = 1 # I think this is just a diag offset but I am numpy noob\n",
    "    transformation[0,6] = 1\n",
    "    transformation[0,8] = 1\n",
    "    transform = np.linalg.matrix_power(transformation,n).sum(axis=1) # might be possible to use eigenvector/values\n",
    "    return counts @ transform"
   ]
  },
  {
   "cell_type": "code",
   "execution_count": 17,
   "id": "e99c024b-da01-40e9-bf74-91890cc28249",
   "metadata": {},
   "outputs": [],
   "source": [
    "assert matrix_solve(test_input,256) == 26984457539"
   ]
  },
  {
   "cell_type": "code",
   "execution_count": null,
   "id": "cbc6365e-9c1a-4f92-bd10-0cf46c2d277c",
   "metadata": {},
   "outputs": [],
   "source": []
  }
 ],
 "metadata": {
  "kernelspec": {
   "display_name": "Python 3",
   "language": "python",
   "name": "python3"
  },
  "language_info": {
   "codemirror_mode": {
    "name": "ipython",
    "version": 3
   },
   "file_extension": ".py",
   "mimetype": "text/x-python",
   "name": "python",
   "nbconvert_exporter": "python",
   "pygments_lexer": "ipython3",
   "version": "3.6.10"
  }
 },
 "nbformat": 4,
 "nbformat_minor": 5
}
