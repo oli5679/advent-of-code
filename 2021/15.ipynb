{
 "cells": [
  {
   "cell_type": "code",
   "execution_count": 3,
   "id": "55c02c9c-1729-482f-abe5-3f2a14c8f7c4",
   "metadata": {},
   "outputs": [],
   "source": [
    "input_list = '''1163751742\n",
    "1381373672\n",
    "2136511328\n",
    "3694931569\n",
    "7463417111\n",
    "1319128137\n",
    "1359912421\n",
    "3125421639\n",
    "1293138521\n",
    "2311944581'''"
   ]
  },
  {
   "cell_type": "code",
   "execution_count": 269,
   "id": "5d3f85c8-f36e-4ab2-862c-79dcc63d64af",
   "metadata": {},
   "outputs": [],
   "source": [
    "import numpy as np\n",
    "from copy import copy\n",
    "import heapq"
   ]
  },
  {
   "cell_type": "code",
   "execution_count": 270,
   "id": "75e10bee-9ecd-4b4f-8abe-c7d74472df1f",
   "metadata": {},
   "outputs": [],
   "source": [
    "grid = np.array([[int(x) for x in row] for row in input_list.split('\\n')])"
   ]
  },
  {
   "cell_type": "code",
   "execution_count": 273,
   "id": "651d2691-9f61-44cf-afa3-9fd311e92204",
   "metadata": {},
   "outputs": [],
   "source": [
    "def shortest_path(grid, start, end):\n",
    "    queue = [(0, start)]\n",
    "    valid = set(np.ndindex(grid.shape))\n",
    "    seen = set()\n",
    "    while True:\n",
    "        cost, node = heapq.heappop(queue)\n",
    "        if node not in seen:\n",
    "            seen.add(node)\n",
    "            if node == end:\n",
    "                return cost\n",
    "            for i,j in [(1,0),(-1,0), (0,1), (0,-1)]:\n",
    "                _i, _j = node\n",
    "                idx = (i+_i, j+_j)\n",
    "                if idx in valid:\n",
    "                    heapq.heappush(queue, (cost + grid[idx], idx))"
   ]
  },
  {
   "cell_type": "code",
   "execution_count": 274,
   "id": "3a7580b8-c0d6-4dc0-813a-ff7b1bd7e4f0",
   "metadata": {},
   "outputs": [],
   "source": [
    "assert shortest_path(grid,(0,0), (9,9))"
   ]
  },
  {
   "cell_type": "code",
   "execution_count": 275,
   "id": "c22daf74-c60c-4afc-b87f-323397e3cec6",
   "metadata": {},
   "outputs": [],
   "source": [
    "data = open('data/15.txt','r').read()[:-1]"
   ]
  },
  {
   "cell_type": "code",
   "execution_count": 276,
   "id": "145fe398-3daa-4c29-bc87-a88f08684af2",
   "metadata": {},
   "outputs": [],
   "source": [
    "grid_2 = np.array([[int(x) for x in row] for row in data.split('\\n')])"
   ]
  },
  {
   "cell_type": "code",
   "execution_count": 282,
   "id": "d9aab0bb-e781-49f8-bf2a-a69cca497732",
   "metadata": {},
   "outputs": [
    {
     "data": {
      "text/plain": [
       "592"
      ]
     },
     "execution_count": 282,
     "metadata": {},
     "output_type": "execute_result"
    }
   ],
   "source": [
    "shortest_path(grid_2,(0,0), (99,99)) "
   ]
  },
  {
   "cell_type": "code",
   "execution_count": 280,
   "id": "d8d488f3-acc3-4c4d-88c2-2fc9c09bb5f6",
   "metadata": {},
   "outputs": [],
   "source": [
    "def make_big_grid(grid):\n",
    "    current_grid = grid.copy()\n",
    "    grid_list = []\n",
    "    for i in range(5):\n",
    "        grid_list.append(current_grid)\n",
    "        current_grid =(current_grid % 9) +1\n",
    "    row = np.hstack(grid_list)\n",
    "    row_list = []\n",
    "    for i in range(5):\n",
    "        row_list.append(row)\n",
    "        row =(row % 9) +1\n",
    "    return np.vstack(row_list)"
   ]
  },
  {
   "cell_type": "code",
   "execution_count": 281,
   "id": "c56f4485-f355-410e-8d64-c93ee019d611",
   "metadata": {},
   "outputs": [],
   "source": [
    "big_grid = make_big_grid(grid)"
   ]
  },
  {
   "cell_type": "code",
   "execution_count": 283,
   "id": "85c406de-cba4-4ed3-aa40-3c35b13e4f87",
   "metadata": {},
   "outputs": [],
   "source": [
    "assert shortest_path(big_grid,(0,0), (49,49)) == 315"
   ]
  },
  {
   "cell_type": "code",
   "execution_count": 261,
   "id": "79fba7ac-e4fa-441e-9e33-bda5396c0831",
   "metadata": {},
   "outputs": [],
   "source": [
    "big_grid_2 = make_big_grid(grid_2)"
   ]
  },
  {
   "cell_type": "code",
   "execution_count": 284,
   "id": "5f90a09e-07a7-443c-b168-732cfffaf404",
   "metadata": {},
   "outputs": [
    {
     "data": {
      "text/plain": [
       "2897"
      ]
     },
     "execution_count": 284,
     "metadata": {},
     "output_type": "execute_result"
    }
   ],
   "source": [
    "shortest_path(big_grid_2,(0,0), (499,499))"
   ]
  },
  {
   "cell_type": "code",
   "execution_count": null,
   "id": "0a1e31ec-2424-4a29-85ce-577caaa6b756",
   "metadata": {},
   "outputs": [],
   "source": []
  }
 ],
 "metadata": {
  "kernelspec": {
   "display_name": "Python 3",
   "language": "python",
   "name": "python3"
  },
  "language_info": {
   "codemirror_mode": {
    "name": "ipython",
    "version": 3
   },
   "file_extension": ".py",
   "mimetype": "text/x-python",
   "name": "python",
   "nbconvert_exporter": "python",
   "pygments_lexer": "ipython3",
   "version": "3.6.10"
  }
 },
 "nbformat": 4,
 "nbformat_minor": 5
}
