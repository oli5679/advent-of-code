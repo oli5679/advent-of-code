{
 "cells": [
  {
   "cell_type": "code",
   "execution_count": 66,
   "id": "9bd07b24-fc12-48f5-9bb2-83eef7d736b3",
   "metadata": {},
   "outputs": [],
   "source": [
    "from copy import copy\n",
    "from collections import Counter\n",
    "from functools import lru_cache"
   ]
  },
  {
   "cell_type": "code",
   "execution_count": 160,
   "id": "9770658c-df30-41fc-84c3-469958ad2232",
   "metadata": {},
   "outputs": [],
   "source": [
    "poly= 'NNCB'"
   ]
  },
  {
   "cell_type": "code",
   "execution_count": 149,
   "id": "c685c8d8-c7ca-4275-b996-9f2ba083dbf4",
   "metadata": {},
   "outputs": [],
   "source": [
    "c = Counter()"
   ]
  },
  {
   "cell_type": "code",
   "execution_count": 161,
   "id": "034f561c-ffc4-4aa3-91f7-c681be03e63b",
   "metadata": {},
   "outputs": [],
   "source": [
    "mapping_str = '''CH -> B\n",
    "HH -> N\n",
    "CB -> H\n",
    "NH -> C\n",
    "HB -> C\n",
    "HC -> B\n",
    "HN -> C\n",
    "NN -> C\n",
    "BH -> H\n",
    "NC -> B\n",
    "NB -> B\n",
    "BN -> B\n",
    "BB -> N\n",
    "BC -> B\n",
    "CC -> N\n",
    "CN -> C'''"
   ]
  },
  {
   "cell_type": "code",
   "execution_count": 162,
   "id": "7adf0993-6b7f-4675-b344-3249df1b63af",
   "metadata": {},
   "outputs": [],
   "source": [
    "insert = dict([x.split(' -> ') for x in mapping.split('\\n')])"
   ]
  },
  {
   "cell_type": "code",
   "execution_count": 181,
   "id": "1d5ac39f-b4bc-456a-ab7a-4d095911e53a",
   "metadata": {},
   "outputs": [],
   "source": [
    "def find_diff(poly, insert, n):\n",
    "    pairs = Counter([poly[i:i+2] for i in range(len(poly)-1)])\n",
    "    for _ in range(n):\n",
    "        new_counts = Counter()\n",
    "        for k, v in pairs.items():\n",
    "            i = insert[k]\n",
    "            new_counts[k[0] + i] += v\n",
    "            new_counts[i + k[1]] += v\n",
    "        pairs= new_counts    \n",
    "    final_count = Counter()\n",
    "    for k, v in pairs.items():\n",
    "        final_count[k[0]] += v\n",
    "    final_count[poly[-1]] += 1\n",
    "    return max(final_count.values()) - min(final_count.values())"
   ]
  },
  {
   "cell_type": "code",
   "execution_count": 182,
   "id": "d10fca6f-f8ea-4895-9c31-47ec9213995b",
   "metadata": {},
   "outputs": [],
   "source": [
    "assert find_diff(poly, insert, 10) == 1588"
   ]
  },
  {
   "cell_type": "code",
   "execution_count": 183,
   "id": "6ac0665f-fdf1-46c2-bc0f-9d7e45d23909",
   "metadata": {},
   "outputs": [],
   "source": [
    "poly_2 = 'KHSNHFKVVSVPSCVHBHNP'"
   ]
  },
  {
   "cell_type": "code",
   "execution_count": 184,
   "id": "8945cc89-01ca-4b2e-b8de-5387513e52a5",
   "metadata": {},
   "outputs": [],
   "source": [
    "mapping_2 = '''FV -> H\n",
    "SB -> P\n",
    "NV -> S\n",
    "BS -> K\n",
    "KB -> V\n",
    "HB -> H\n",
    "NB -> N\n",
    "VB -> P\n",
    "CN -> C\n",
    "CF -> N\n",
    "OF -> P\n",
    "FO -> K\n",
    "OC -> F\n",
    "BN -> V\n",
    "PO -> O\n",
    "OS -> B\n",
    "KH -> N\n",
    "BB -> C\n",
    "PV -> K\n",
    "ON -> K\n",
    "NF -> H\n",
    "BV -> K\n",
    "SN -> N\n",
    "PB -> S\n",
    "PK -> F\n",
    "PF -> S\n",
    "BP -> K\n",
    "SP -> K\n",
    "NN -> K\n",
    "FP -> N\n",
    "NK -> N\n",
    "SF -> P\n",
    "HS -> C\n",
    "OH -> C\n",
    "FS -> H\n",
    "VH -> N\n",
    "CO -> P\n",
    "VP -> H\n",
    "FF -> N\n",
    "KP -> B\n",
    "BH -> B\n",
    "PP -> F\n",
    "SS -> P\n",
    "CV -> S\n",
    "HO -> P\n",
    "PN -> K\n",
    "SO -> O\n",
    "NO -> O\n",
    "NH -> V\n",
    "HH -> F\n",
    "KK -> C\n",
    "VO -> B\n",
    "KS -> B\n",
    "SV -> O\n",
    "OP -> S\n",
    "VK -> H\n",
    "KF -> O\n",
    "CP -> H\n",
    "SH -> H\n",
    "NC -> S\n",
    "KC -> O\n",
    "CK -> H\n",
    "CH -> B\n",
    "KO -> O\n",
    "OV -> P\n",
    "VF -> V\n",
    "HN -> P\n",
    "FH -> P\n",
    "BC -> V\n",
    "HV -> N\n",
    "BO -> V\n",
    "PH -> P\n",
    "NP -> F\n",
    "FN -> F\n",
    "FK -> P\n",
    "SC -> C\n",
    "KN -> S\n",
    "NS -> S\n",
    "OK -> S\n",
    "HK -> O\n",
    "PC -> O\n",
    "BK -> O\n",
    "OO -> P\n",
    "BF -> N\n",
    "SK -> V\n",
    "VS -> B\n",
    "HP -> H\n",
    "VC -> V\n",
    "KV -> P\n",
    "FC -> H\n",
    "HC -> O\n",
    "HF -> S\n",
    "CB -> H\n",
    "CC -> B\n",
    "PS -> C\n",
    "OB -> B\n",
    "CS -> S\n",
    "VV -> S\n",
    "VN -> H\n",
    "FB -> N'''"
   ]
  },
  {
   "cell_type": "code",
   "execution_count": 185,
   "id": "8994dbb9-9f43-4e11-8be8-5e6796560d2a",
   "metadata": {},
   "outputs": [],
   "source": [
    "insert_2 = dict([x.split(' -> ') for x in mapping_2.split('\\n')])"
   ]
  },
  {
   "cell_type": "code",
   "execution_count": 186,
   "id": "f6071baa-01d2-4b60-9143-d1bf0bf26d97",
   "metadata": {},
   "outputs": [
    {
     "data": {
      "text/plain": [
       "2408"
      ]
     },
     "execution_count": 186,
     "metadata": {},
     "output_type": "execute_result"
    }
   ],
   "source": [
    "find_diff(poly_2, insert_2, 10)"
   ]
  },
  {
   "cell_type": "code",
   "execution_count": 188,
   "id": "eda75cd7-7622-4106-9418-1c03cc522564",
   "metadata": {},
   "outputs": [],
   "source": [
    "assert find_diff(poly, insert,40) == 2188189693529"
   ]
  },
  {
   "cell_type": "code",
   "execution_count": 189,
   "id": "2b114cfa-9f81-4549-bf1c-b9b14e6d5e7f",
   "metadata": {},
   "outputs": [
    {
     "data": {
      "text/plain": [
       "2651311098752"
      ]
     },
     "execution_count": 189,
     "metadata": {},
     "output_type": "execute_result"
    }
   ],
   "source": [
    "find_diff(poly_2, insert_2,40)"
   ]
  },
  {
   "cell_type": "code",
   "execution_count": null,
   "id": "1a6bce6f-47b9-4cd5-b479-a6de69ddbc01",
   "metadata": {},
   "outputs": [],
   "source": []
  }
 ],
 "metadata": {
  "kernelspec": {
   "display_name": "Python 3",
   "language": "python",
   "name": "python3"
  },
  "language_info": {
   "codemirror_mode": {
    "name": "ipython",
    "version": 3
   },
   "file_extension": ".py",
   "mimetype": "text/x-python",
   "name": "python",
   "nbconvert_exporter": "python",
   "pygments_lexer": "ipython3",
   "version": "3.6.10"
  }
 },
 "nbformat": 4,
 "nbformat_minor": 5
}
