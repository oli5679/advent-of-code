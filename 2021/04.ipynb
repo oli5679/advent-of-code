{
 "cells": [
  {
   "cell_type": "markdown",
   "id": "b6f0cae2-acee-42e0-bedc-6e2235fa6b43",
   "metadata": {},
   "source": [
    "--- Day 4: Giant Squid ---\n",
    "You're already almost 1.5km (almost a mile) below the surface of the ocean, already so deep that you can't see any sunlight. What you can see, however, is a giant squid that has attached itself to the outside of your submarine.\n",
    "\n",
    "Maybe it wants to play bingo?\n",
    "\n",
    "Bingo is played on a set of boards each consisting of a 5x5 grid of numbers. Numbers are chosen at random, and the chosen number is marked on all boards on which it appears. (Numbers may not appear on all boards.) If all numbers in any row or any column of a board are marked, that board wins. (Diagonals don't count.)\n",
    "\n",
    "The submarine has a bingo subsystem to help passengers (currently, you and the giant squid) pass the time. It automatically generates a random order in which to draw numbers and a random set of boards (your puzzle input). For example:\n",
    "\n",
    "    7,4,9,5,11,17,23,2,0,14,21,24,10,16,13,6,15,25,12,22,18,20,8,19,3,26,1\n",
    "\n",
    "    22 13 17 11  0\n",
    "     8  2 23  4 24\n",
    "    21  9 14 16  7\n",
    "     6 10  3 18  5\n",
    "     1 12 20 15 19\n",
    "\n",
    "     3 15  0  2 22\n",
    "     9 18 13 17  5\n",
    "    19  8  7 25 23\n",
    "    20 11 10 24  4\n",
    "    14 21 16 12  6\n",
    "\n",
    "    14 21 17 24  4\n",
    "    10 16 15  9 19\n",
    "    18  8 23 26 20\n",
    "    22 11 13  6  5\n",
    "     2  0 12  3  7\n",
    "After the first five numbers are drawn (7, 4, 9, 5, and 11), there are no winners, but the boards are marked as follows (shown here adjacent to each other to save space):\n",
    "\n",
    "    22 13 17 11  0         3 15  0  2 22        14 21 17 24  4\n",
    "     8  2 23  4 24         9 18 13 17  5        10 16 15  9 19\n",
    "    21  9 14 16  7        19  8  7 25 23        18  8 23 26 20\n",
    "     6 10  3 18  5        20 11 10 24  4        22 11 13  6  5\n",
    "     1 12 20 15 19        14 21 16 12  6         2  0 12  3  7\n",
    "After the next six numbers are drawn (17, 23, 2, 0, 14, and 21), there are still no winners:\n",
    "\n",
    "    22 13 17 11  0         3 15  0  2 22        14 21 17 24  4\n",
    "     8  2 23  4 24         9 18 13 17  5        10 16 15  9 19\n",
    "    21  9 14 16  7        19  8  7 25 23        18  8 23 26 20\n",
    "     6 10  3 18  5        20 11 10 24  4        22 11 13  6  5\n",
    "     1 12 20 15 19        14 21 16 12  6         2  0 12  3  7\n",
    "Finally, 24 is drawn:\n",
    "\n",
    "    22 13 17 11  0         3 15  0  2 22        14 21 17 24  4\n",
    "     8  2 23  4 24         9 18 13 17  5        10 16 15  9 19\n",
    "    21  9 14 16  7        19  8  7 25 23        18  8 23 26 20\n",
    "     6 10  3 18  5        20 11 10 24  4        22 11 13  6  5\n",
    "     1 12 20 15 19        14 21 16 12  6         2  0 12  3  7\n",
    "At this point, the third board wins because it has at least one complete row or column of marked numbers (in this case, the entire top row is marked: 14 21 17 24 4).\n",
    "\n",
    "The score of the winning board can now be calculated. Start by finding the sum of all unmarked numbers on that board; in this case, the sum is 188. Then, multiply that sum by the number that was just called when the board won, 24, to get the final score, 188 * 24 = 4512.\n",
    "\n",
    "To guarantee victory against the giant squid, figure out which board will win first. What will your final score be if you choose that board?\n",
    "\n"
   ]
  },
  {
   "cell_type": "code",
   "execution_count": 26,
   "id": "f1e85ede-441f-4bff-95d4-4bc848e81545",
   "metadata": {},
   "outputs": [],
   "source": [
    "import numpy as np"
   ]
  },
  {
   "cell_type": "code",
   "execution_count": 67,
   "id": "b59e269d-b66e-4c0f-bfc0-b00c95c86734",
   "metadata": {},
   "outputs": [],
   "source": [
    "test_numbers = [7,4,9,5,11,17,23,2,0,14,21,24,10,16,13,6,15,25,12,22,18,20,8,19,3,26,1]"
   ]
  },
  {
   "cell_type": "code",
   "execution_count": 100,
   "id": "05964dba-9b36-4a25-9f69-0ec40d6b5211",
   "metadata": {},
   "outputs": [],
   "source": [
    "boards_raw_test = ['''22 13 17 11  0\n",
    "8  2 23  4 24\n",
    "21  9 14 16  7\n",
    "6 10  3 18  5\n",
    "1 12 20 15 19''',\n",
    "\n",
    "     '''3 15  0  2 22\n",
    "9 18 13 17  5\n",
    "19  8  7 25 23\n",
    "20 11 10 24  4\n",
    "14 21 16 12  6''',\n",
    "\n",
    "'''14 21 17 24  4\n",
    "10 16 15  9 19\n",
    "18  8 23 26 20\n",
    "22 11 13  6  5\n",
    "2  0 12  3  7''']\n"
   ]
  },
  {
   "cell_type": "code",
   "execution_count": 130,
   "id": "0567807d-4d1f-477e-943e-c874bb5161ca",
   "metadata": {},
   "outputs": [],
   "source": [
    "def parse_boards(raw_boards):\n",
    "    test_boards = [[[int(x) for x in row.split()] for row in b.split('\\n')] for b in raw_boards]\n",
    "    return [np.array(x) for x in test_boards]"
   ]
  },
  {
   "cell_type": "code",
   "execution_count": 127,
   "id": "6afd69d7-ebe4-4c51-8c7e-47a249fd86b2",
   "metadata": {},
   "outputs": [],
   "source": [
    "test_boards = parse_boards(boards_raw_test)"
   ]
  },
  {
   "cell_type": "code",
   "execution_count": 103,
   "id": "b7b25b12-a555-4b0c-8d6b-c4ed174a1178",
   "metadata": {},
   "outputs": [],
   "source": [
    "def check_win(results_board):\n",
    "    return max(results_board.sum(axis=1).max(),\n",
    "               results_board.sum(axis=0).max()) == len(results_board)"
   ]
  },
  {
   "cell_type": "code",
   "execution_count": 104,
   "id": "c553684e-f345-4190-9f4c-8becce38c0d6",
   "metadata": {},
   "outputs": [],
   "source": [
    "def find_winner(numbers, boards):\n",
    "    results = [np.zeros(b.shape) for b in boards]\n",
    "    for n in numbers:\n",
    "        for i, board in enumerate(boards):\n",
    "            results[i] += (board == n)\n",
    "            if check_win(results[i]):\n",
    "                return (board * (1-results[i])).sum() * n"
   ]
  },
  {
   "cell_type": "code",
   "execution_count": 105,
   "id": "926d1ed5-9fd3-4cf4-9ba3-41484054b01e",
   "metadata": {},
   "outputs": [],
   "source": [
    "assert find_winner(test_numbers,test_boards) == 4512"
   ]
  },
  {
   "cell_type": "code",
   "execution_count": 135,
   "id": "5c85d3fd-8114-4694-a6ab-31a209861bbd",
   "metadata": {},
   "outputs": [],
   "source": [
    "input_file = open('data/04.txt','r').read().split('\\n\\n')"
   ]
  },
  {
   "cell_type": "code",
   "execution_count": 136,
   "id": "99e66fdb-2279-4f42-b6fd-719dfcc95008",
   "metadata": {},
   "outputs": [],
   "source": [
    "numbers = [int(x) for x in input_file[0].split(',')]"
   ]
  },
  {
   "cell_type": "code",
   "execution_count": 137,
   "id": "11318294-8c2e-4cba-aa7d-83cae3db12da",
   "metadata": {},
   "outputs": [],
   "source": [
    "boards = parse_boards(input_file[1:])"
   ]
  },
  {
   "cell_type": "code",
   "execution_count": 139,
   "id": "c8b48ba4-2267-47ee-9550-eef40a4bb504",
   "metadata": {},
   "outputs": [
    {
     "data": {
      "text/plain": [
       "11774.0"
      ]
     },
     "execution_count": 139,
     "metadata": {},
     "output_type": "execute_result"
    }
   ],
   "source": [
    "find_winner(numbers,boards)"
   ]
  },
  {
   "cell_type": "markdown",
   "id": "fe00d585-853f-4bae-a517-7aff3b58e2ce",
   "metadata": {},
   "source": [
    "--- Part Two ---\n",
    "On the other hand, it might be wise to try a different strategy: let the giant squid win.\n",
    "\n",
    "You aren't sure how many bingo boards a giant squid could play at once, so rather than waste time counting its arms, the safe thing to do is to figure out which board will win last and choose that one. That way, no matter which boards it picks, it will win for sure.\n",
    "\n",
    "In the above example, the second board is the last to win, which happens after 13 is eventually called and its middle column is completely marked. If you were to keep playing until this point, the second board would have a sum of unmarked numbers equal to 148 for a final score of 148 * 13 = 1924.\n",
    "\n",
    "Figure out which board will win last. Once it wins, what would its final score be?\n",
    "\n"
   ]
  },
  {
   "cell_type": "code",
   "execution_count": 144,
   "id": "49dd80c3-132c-4416-b1a1-ec4eae9079db",
   "metadata": {},
   "outputs": [],
   "source": [
    "def find_loser(numbers, boards):\n",
    "    results = [np.zeros(b.shape) for b in boards]\n",
    "    already_won = set()\n",
    "    for n in numbers:\n",
    "        for i, board in enumerate(boards):\n",
    "            results[i] += (board == n)\n",
    "            if check_win(results[i]):\n",
    "                already_won.add(i)\n",
    "                if len(already_won) == len(boards):\n",
    "                    return (board * (1-results[i])).sum() * n"
   ]
  },
  {
   "cell_type": "code",
   "execution_count": 147,
   "id": "bbcc17e7-02e7-4304-a8d2-6899657863a1",
   "metadata": {},
   "outputs": [],
   "source": [
    "assert find_loser(test_numbers,test_boards)  == 1924"
   ]
  },
  {
   "cell_type": "code",
   "execution_count": 148,
   "id": "0b2a025c-ab62-4c9b-9660-8a3f625a9dba",
   "metadata": {},
   "outputs": [
    {
     "data": {
      "text/plain": [
       "4495.0"
      ]
     },
     "execution_count": 148,
     "metadata": {},
     "output_type": "execute_result"
    }
   ],
   "source": [
    "find_loser(numbers,boards)"
   ]
  },
  {
   "cell_type": "code",
   "execution_count": null,
   "id": "e4d02dec-75dd-487f-a6a6-7d4eb454169e",
   "metadata": {},
   "outputs": [],
   "source": []
  }
 ],
 "metadata": {
  "kernelspec": {
   "display_name": "Python 3",
   "language": "python",
   "name": "python3"
  },
  "language_info": {
   "codemirror_mode": {
    "name": "ipython",
    "version": 3
   },
   "file_extension": ".py",
   "mimetype": "text/x-python",
   "name": "python",
   "nbconvert_exporter": "python",
   "pygments_lexer": "ipython3",
   "version": "3.6.10"
  }
 },
 "nbformat": 4,
 "nbformat_minor": 5
}
