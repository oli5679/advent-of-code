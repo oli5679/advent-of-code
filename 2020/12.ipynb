{
 "cells": [
  {
   "cell_type": "markdown",
   "metadata": {},
   "source": [
    "--- Day 12: Rain Risk ---\n",
    "Your ferry made decent progress toward the island, but the storm came in faster than anyone expected. The ferry needs to take evasive actions!\n",
    "\n",
    "Unfortunately, the ship's navigation computer seems to be malfunctioning; rather than giving a route directly to safety, it produced extremely circuitous instructions. When the captain uses the PA system to ask if anyone can help, you quickly volunteer.\n",
    "\n",
    "The navigation instructions (your puzzle input) consists of a sequence of single-character actions paired with integer input values. After staring at them for a few minutes, you work out what they probably mean:\n",
    "\n",
    "Action N means to move north by the given value.\n",
    "Action S means to move south by the given value.\n",
    "Action E means to move east by the given value.\n",
    "Action W means to move west by the given value.\n",
    "Action L means to turn left the given number of degrees.\n",
    "Action R means to turn right the given number of degrees.\n",
    "Action F means to move forward by the given value in the direction the ship is currently facing.\n",
    "The ship starts by facing east. Only the L and R actions change the direction the ship is facing. (That is, if the ship is facing east and the next instruction is N10, the ship would move north 10 units, but would still move east if the following action were F.)\n",
    "\n",
    "For example:\n",
    "\n",
    "F10\n",
    "N3\n",
    "F7\n",
    "R90\n",
    "F11\n",
    "These instructions would be handled as follows:\n",
    "\n",
    "F10 would move the ship 10 units east (because the ship starts by facing east) to east 10, north 0.\n",
    "N3 would move the ship 3 units north to east 10, north 3.\n",
    "F7 would move the ship another 7 units east (because the ship is still facing east) to east 17, north 3.\n",
    "R90 would cause the ship to turn right by 90 degrees and face south; it remains at east 17, north 3.\n",
    "F11 would move the ship 11 units south to east 17, south 8.\n",
    "At the end of these instructions, the ship's Manhattan distance (sum of the absolute values of its east/west position and its north/south position) from its starting position is 17 + 8 = 25.\n",
    "\n",
    "Figure out where the navigation instructions lead. What is the Manhattan distance between that location and the ship's starting position?"
   ]
  },
  {
   "cell_type": "code",
   "execution_count": 13,
   "metadata": {},
   "outputs": [],
   "source": [
    "import re"
   ]
  },
  {
   "cell_type": "code",
   "execution_count": 117,
   "metadata": {},
   "outputs": [],
   "source": [
    "import math"
   ]
  },
  {
   "cell_type": "code",
   "execution_count": 119,
   "metadata": {},
   "outputs": [
    {
     "data": {
      "text/plain": [
       "1.0"
      ]
     },
     "execution_count": 119,
     "metadata": {},
     "output_type": "execute_result"
    }
   ],
   "source": []
  },
  {
   "cell_type": "code",
   "execution_count": 61,
   "metadata": {},
   "outputs": [],
   "source": [
    "NORTH,EAST, SOUTH, WEST = 0,1,2,3"
   ]
  },
  {
   "cell_type": "code",
   "execution_count": 62,
   "metadata": {},
   "outputs": [],
   "source": [
    "ORIENTATION_MAP = {\n",
    "    NORTH:'N',\n",
    "    EAST:'E',\n",
    "    SOUTH:'S',\n",
    "    WEST:'W'\n",
    "}\n",
    "\n",
    "\n",
    "MOVEMENT_MAP = {\n",
    "    'N':[0,1],\n",
    "    'E':[1,0],\n",
    "    'S':[0,-1],\n",
    "    'W':[-1,0],\n",
    "    'L':[0,0],\n",
    "    'R':[0,0],\n",
    "}\n"
   ]
  },
  {
   "cell_type": "code",
   "execution_count": 63,
   "metadata": {},
   "outputs": [
    {
     "data": {
      "text/plain": [
       "2"
      ]
     },
     "execution_count": 63,
     "metadata": {},
     "output_type": "execute_result"
    }
   ],
   "source": [
    "3- 10 % 3"
   ]
  },
  {
   "cell_type": "code",
   "execution_count": 128,
   "metadata": {},
   "outputs": [],
   "source": [
    "class AbstractShip():\n",
    "    def __init__(self, instructions):\n",
    "        self.instructions = instructions\n",
    "        self.coords = [0,0]\n",
    "        self.orientation = EAST\n",
    "        self.waypoint_coords = [10,1]\n",
    "        \n",
    "    def _move(self,action, value):\n",
    "        pass\n",
    "    \n",
    "    def move_all(self):\n",
    "        for action, value in self.instructions:\n",
    "            self._move(action, value)\n",
    "        return self.coords\n",
    "    "
   ]
  },
  {
   "cell_type": "code",
   "execution_count": 139,
   "metadata": {},
   "outputs": [],
   "source": [
    "class Ship(AbstractShip):     \n",
    "    def _move(self,action, value):\n",
    "        value_int = int(value)\n",
    "        if action == 'F':\n",
    "            direction = ORIENTATION_MAP[self.orientation]\n",
    "            movements = MOVEMENT_MAP[direction]\n",
    "        else:\n",
    "            movements = MOVEMENT_MAP[action]    \n",
    "        self.coords[0] += (movements[0] * value_int)\n",
    "        self.coords[1] += (movements[1] * value_int)\n",
    "        if action == 'L':\n",
    "            assert value_int % 90 == 0\n",
    "            self.orientation = (self.orientation - (value_int // 90)) % 4\n",
    "        if action == 'R':\n",
    "            assert value_int % 90 == 0\n",
    "            self.orientation = (self.orientation + (value_int // 90)) % 4\n",
    "        return self.coords    "
   ]
  },
  {
   "cell_type": "code",
   "execution_count": 140,
   "metadata": {},
   "outputs": [],
   "source": [
    "test = '''F10\n",
    "N3\n",
    "F7\n",
    "R90\n",
    "F11'''"
   ]
  },
  {
   "cell_type": "code",
   "execution_count": 141,
   "metadata": {},
   "outputs": [],
   "source": [
    "instuction_regex = r'(\\D)(\\d+)'"
   ]
  },
  {
   "cell_type": "code",
   "execution_count": 142,
   "metadata": {},
   "outputs": [],
   "source": [
    "test_instructions = re.findall(instuction_regex, test)"
   ]
  },
  {
   "cell_type": "code",
   "execution_count": 143,
   "metadata": {},
   "outputs": [
    {
     "data": {
      "text/plain": [
       "[17, -8]"
      ]
     },
     "execution_count": 143,
     "metadata": {},
     "output_type": "execute_result"
    }
   ],
   "source": [
    "Ship(test_instructions).move_all()"
   ]
  },
  {
   "cell_type": "code",
   "execution_count": 144,
   "metadata": {},
   "outputs": [],
   "source": [
    "input_data = open('data/12.txt','r').read()"
   ]
  },
  {
   "cell_type": "code",
   "execution_count": 145,
   "metadata": {},
   "outputs": [],
   "source": [
    "instructions = re.findall(instuction_regex, input_data)"
   ]
  },
  {
   "cell_type": "code",
   "execution_count": 146,
   "metadata": {},
   "outputs": [],
   "source": [
    "res = Ship(instructions).move_all()"
   ]
  },
  {
   "cell_type": "code",
   "execution_count": 147,
   "metadata": {},
   "outputs": [
    {
     "data": {
      "text/plain": [
       "1221"
      ]
     },
     "execution_count": 147,
     "metadata": {},
     "output_type": "execute_result"
    }
   ],
   "source": [
    "abs(res[0]) + abs(res[1])"
   ]
  },
  {
   "cell_type": "markdown",
   "metadata": {},
   "source": [
    "--- Part Two ---\n",
    "Before you can give the destination to the captain, you realize that the actual action meanings were printed on the back of the instructions the whole time.\n",
    "\n",
    "Almost all of the actions indicate how to move a waypoint which is relative to the ship's position:\n",
    "\n",
    "Action N means to move the waypoint north by the given value.\n",
    "Action S means to move the waypoint south by the given value.\n",
    "Action E means to move the waypoint east by the given value.\n",
    "Action W means to move the waypoint west by the given value.\n",
    "Action L means to rotate the waypoint around the ship left (counter-clockwise) the given number of degrees.\n",
    "Action R means to rotate the waypoint around the ship right (clockwise) the given number of degrees.\n",
    "Action F means to move forward to the waypoint a number of times equal to the given value.\n",
    "The waypoint starts 10 units east and 1 unit north relative to the ship. The waypoint is relative to the ship; that is, if the ship moves, the waypoint moves with it.\n",
    "\n",
    "For example, using the same instructions as above:\n",
    "\n",
    "F10 moves the ship to the waypoint 10 times (a total of 100 units east and 10 units north), leaving the ship at east 100, north 10. The waypoint stays 10 units east and 1 unit north of the ship.\n",
    "N3 moves the waypoint 3 units north to 10 units east and 4 units north of the ship. The ship remains at east 100, north 10.\n",
    "F7 moves the ship to the waypoint 7 times (a total of 70 units east and 28 units north), leaving the ship at east 170, north 38. The waypoint stays 10 units east and 4 units north of the ship.\n",
    "R90 rotates the waypoint around the ship clockwise 90 degrees, moving it to 4 units east and 10 units south of the ship. The ship remains at east 170, north 38.\n",
    "F11 moves the ship to the waypoint 11 times (a total of 44 units east and 110 units south), leaving the ship at east 214, south 72. The waypoint stays 4 units east and 10 units south of the ship.\n",
    "After these operations, the ship's Manhattan distance from its starting position is 214 + 72 = 286.\n",
    "\n",
    "Figure out where the navigation instructions actually lead. What is the Manhattan distance between that location and the ship's starting position?"
   ]
  },
  {
   "cell_type": "code",
   "execution_count": 168,
   "metadata": {},
   "outputs": [],
   "source": [
    "def rotate(coords, beta):\n",
    "    '''\n",
    "    Rotates a vector values x y theta degress\n",
    "    \n",
    "    𝑥2=cos𝛽𝑥1−sin𝛽𝑦1\n",
    "    𝑦2=sin𝛽𝑥1+cos𝛽𝑦1\n",
    "    '''\n",
    "    x, y = coords\n",
    "    beta_r = math.radians(beta)\n",
    "    x2 = (x*math.cos(beta_r)) - (y*math.sin(beta_r))\n",
    "    y2 = (x*math.sin(beta_r)) + (y*math.cos(beta_r))\n",
    "    return [int(x2), int(y2)]"
   ]
  },
  {
   "cell_type": "code",
   "execution_count": 169,
   "metadata": {},
   "outputs": [],
   "source": [
    "class WaypointShip(AbstractShip):\n",
    "    '''\n",
    "    Action N means to move the waypoint north by the given value. \n",
    "    Action S means to move the waypoint south by the given value. \n",
    "    Action E means to move the waypoint east by the given value. \n",
    "    Action W means to move the waypoint west by the given value. \n",
    "    Action L means to rotate the waypoint around the ship left (counter-clockwise) the given number of degrees. \n",
    "    Action R means to rotate the waypoint around the ship right (clockwise) the given number of degrees. \n",
    "    Action F means to move forward to the waypoint a number of times equal to the given value. \n",
    "    The waypoint starts 10 units east and 1 unit north relative to the ship. \n",
    "    The waypoint is relative to the ship; that is, if the ship moves, the waypoint moves with it.\n",
    "    '''        \n",
    "    def _move(self,action, value):\n",
    "        value_int = int(value)\n",
    "        if action in ['N','S','E','W']:\n",
    "            movements = MOVEMENT_MAP[action]\n",
    "            self.waypoint_coords[0] += (movements[0] * value_int)\n",
    "            self.waypoint_coords[1] += (movements[1] * value_int)\n",
    "        elif action == 'L':\n",
    "            self.waypoint_coords = rotate(self.waypoint_coords, value_int)\n",
    "        elif action == 'R':\n",
    "            self.waypoint_coords = rotate(self.waypoint_coords, -value_int)\n",
    "        elif action == 'F': \n",
    "            self.coords[0] += (self.waypoint_coords[0] * value_int)\n",
    "            self.coords[1] += (self.waypoint_coords[1] * value_int)\n",
    "        return self.coords"
   ]
  },
  {
   "cell_type": "code",
   "execution_count": 170,
   "metadata": {},
   "outputs": [
    {
     "data": {
      "text/plain": [
       "[214, -72]"
      ]
     },
     "execution_count": 170,
     "metadata": {},
     "output_type": "execute_result"
    }
   ],
   "source": [
    "WaypointShip(test_instructions).move_all()"
   ]
  },
  {
   "cell_type": "code",
   "execution_count": 171,
   "metadata": {},
   "outputs": [],
   "source": [
    "res = WaypointShip(instructions).move_all()"
   ]
  },
  {
   "cell_type": "code",
   "execution_count": 173,
   "metadata": {},
   "outputs": [
    {
     "data": {
      "text/plain": [
       "49452"
      ]
     },
     "execution_count": 173,
     "metadata": {},
     "output_type": "execute_result"
    }
   ],
   "source": [
    "abs(res[0]) + abs(res[1])"
   ]
  },
  {
   "cell_type": "code",
   "execution_count": null,
   "metadata": {},
   "outputs": [],
   "source": []
  }
 ],
 "metadata": {
  "kernelspec": {
   "display_name": "Python 3",
   "language": "python",
   "name": "python3"
  },
  "language_info": {
   "codemirror_mode": {
    "name": "ipython",
    "version": 3
   },
   "file_extension": ".py",
   "mimetype": "text/x-python",
   "name": "python",
   "nbconvert_exporter": "python",
   "pygments_lexer": "ipython3",
   "version": "3.7.6"
  }
 },
 "nbformat": 4,
 "nbformat_minor": 4
}
