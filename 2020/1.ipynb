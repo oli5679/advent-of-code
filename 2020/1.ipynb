{
 "cells": [
  {
   "cell_type": "code",
   "execution_count": 24,
   "metadata": {},
   "outputs": [],
   "source": [
    "import itertools"
   ]
  },
  {
   "cell_type": "code",
   "execution_count": 25,
   "metadata": {},
   "outputs": [],
   "source": [
    "data = pd.read_csv('data/1.txt')"
   ]
  },
  {
   "cell_type": "code",
   "execution_count": 26,
   "metadata": {},
   "outputs": [],
   "source": [
    "text_file = open(\"data/1.txt\", \"r\")\n",
    "numbers = [int(x) for x in text_file.readlines()]"
   ]
  },
  {
   "cell_type": "code",
   "execution_count": 28,
   "metadata": {},
   "outputs": [],
   "source": [
    "[n[0]*n[1] for n in itertools.product(numbers,numbers) if n[0]+n[1] == "
   ]
  },
  {
   "cell_type": "code",
   "execution_count": 20,
   "metadata": {},
   "outputs": [
    {
     "name": "stdout",
     "output_type": "stream",
     "text": [
      "679 1341\n",
      "910539\n",
      "1341 679\n",
      "910539\n"
     ]
    }
   ],
   "source": [
    "for i,n in enumerate(numbers):\n",
    "    for j,n2 in enumerate(numbers):\n",
    "        if n + n2 == 2020 and i != j:\n",
    "            print(f'{n} {n2}')\n",
    "            print(f\"{n * n2}\")"
   ]
  },
  {
   "cell_type": "code",
   "execution_count": 21,
   "metadata": {},
   "outputs": [
    {
     "name": "stdout",
     "output_type": "stream",
     "text": [
      "912 977 131\n",
      "116724144\n",
      "912 131 977\n",
      "116724144\n",
      "977 912 131\n",
      "116724144\n",
      "977 131 912\n",
      "116724144\n",
      "131 912 977\n",
      "116724144\n",
      "131 977 912\n",
      "116724144\n"
     ]
    }
   ],
   "source": [
    "for i,n in enumerate(numbers):\n",
    "    for j,n2 in enumerate(numbers):\n",
    "        for k,n3 in enumerate(numbers):\n",
    "            if n + n2 + n3 == 2020 and i != j != k:\n",
    "                print(f'{n} {n2} {n3}')\n",
    "                print(f\"{n * n2 * n3}\")"
   ]
  },
  {
   "cell_type": "code",
   "execution_count": null,
   "metadata": {},
   "outputs": [],
   "source": []
  }
 ],
 "metadata": {
  "kernelspec": {
   "display_name": "Python 3",
   "language": "python",
   "name": "python3"
  },
  "language_info": {
   "codemirror_mode": {
    "name": "ipython",
    "version": 3
   },
   "file_extension": ".py",
   "mimetype": "text/x-python",
   "name": "python",
   "nbconvert_exporter": "python",
   "pygments_lexer": "ipython3",
   "version": "3.7.6"
  }
 },
 "nbformat": 4,
 "nbformat_minor": 4
}
